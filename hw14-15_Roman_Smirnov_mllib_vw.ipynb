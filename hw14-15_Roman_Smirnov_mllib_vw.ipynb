{
 "cells": [
  {
   "cell_type": "code",
   "execution_count": 1,
   "metadata": {
    "collapsed": true
   },
   "outputs": [],
   "source": [
    "import pandas as pd"
   ]
  },
  {
   "cell_type": "code",
   "execution_count": 9,
   "metadata": {
    "collapsed": false
   },
   "outputs": [],
   "source": [
    "train = pd.read_csv('C:/Users/MsSurgeon/Downloads/CTR/train.csv', nrows=150000)"
   ]
  },
  {
   "cell_type": "code",
   "execution_count": 10,
   "metadata": {
    "collapsed": false
   },
   "outputs": [],
   "source": [
    "train.to_csv('C:/Users/MsSurgeon/Downloads/CTR/train_short.csv')"
   ]
  },
  {
   "cell_type": "code",
   "execution_count": 12,
   "metadata": {
    "collapsed": true
   },
   "outputs": [],
   "source": [
    "test = pd.read_csv('C:/Users/MsSurgeon/Downloads/CTR/test.csv', nrows=150000)"
   ]
  },
  {
   "cell_type": "code",
   "execution_count": 13,
   "metadata": {
    "collapsed": true
   },
   "outputs": [],
   "source": [
    "test.to_csv('C:/Users/MsSurgeon/Downloads/CTR/test_short.csv')"
   ]
  },
  {
   "cell_type": "code",
   "execution_count": 25,
   "metadata": {
    "collapsed": false
   },
   "outputs": [
    {
     "name": "stdout",
     "output_type": "stream",
     "text": [
      "\n",
      "Reading: C:/Users/MsSurgeon/Downloads/CTR/train_short.csv \n",
      "Writing: C:/Users/MsSurgeon/Downloads/CTR/train.vw\n",
      "\n",
      "Reading: C:/Users/MsSurgeon/Downloads/CTR/test_short.csv \n",
      "Writing: C:/Users/MsSurgeon/Downloads/CTR/test.vw\n"
     ]
    }
   ],
   "source": [
    "import pandas as pd\n",
    "import csv\n",
    "import re\n",
    "\n",
    "location_train = \"C:/Users/MsSurgeon/Downloads/CTR/train_short.csv\"\n",
    "location_test = \"C:/Users/MsSurgeon/Downloads/CTR/test_short.csv\"\n",
    "\n",
    "location_train_vw = \"C:/Users/MsSurgeon/Downloads/CTR/train.vw\" #will be created\n",
    "location_test_vw = \"C:/Users/MsSurgeon/Downloads/CTR/test.vw\" #will be created\n",
    "\n",
    "#creates Vowpal Wabbit-formatted file from tsv file\n",
    "def to_vw(location_input_file, location_output_file, test = False):\n",
    "    print \"\\nReading:\",location_input_file,\"\\nWriting:\",location_output_file\n",
    "    train = pd.read_csv(\"C:/Users/MsSurgeon/Downloads/CTR/train_short.csv\")\n",
    "    with open(location_input_file) as infile, open(location_output_file, \"wb\") as outfile:\n",
    "        #create a reader to read train file\n",
    "        reader = csv.DictReader(infile, delimiter=\",\")\n",
    "        #for every line\n",
    "        for row in reader:\n",
    "            #if test set label doesnt matter/or isnt available\n",
    "            if test:\n",
    "                label = \"1\"\n",
    "            else:\n",
    "                label = str(int(row['click']))\n",
    "            \n",
    "            features = ''\n",
    "            for col in train.columns:\n",
    "                if col != 'id' and col!='click':\n",
    "                    features = col + ' : ' + row[col]\n",
    "            outfile.write(  label + \" | \" + features + '\\n')\n",
    "\n",
    "to_vw(location_train, location_train_vw)\n",
    "to_vw(location_test, location_test_vw, test=True)"
   ]
  },
  {
   "cell_type": "code",
   "execution_count": null,
   "metadata": {
    "collapsed": true
   },
   "outputs": [],
   "source": []
  }
 ],
 "metadata": {
  "kernelspec": {
   "display_name": "Python 2",
   "language": "python",
   "name": "python2"
  },
  "language_info": {
   "codemirror_mode": {
    "name": "ipython",
    "version": 2
   },
   "file_extension": ".py",
   "mimetype": "text/x-python",
   "name": "python",
   "nbconvert_exporter": "python",
   "pygments_lexer": "ipython2",
   "version": "2.7.10"
  },
  "widgets": {
   "state": {},
   "version": "1.1.2"
  }
 },
 "nbformat": 4,
 "nbformat_minor": 0
}
