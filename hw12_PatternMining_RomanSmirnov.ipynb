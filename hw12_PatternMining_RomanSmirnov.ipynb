{
 "cells": [
  {
   "cell_type": "code",
   "execution_count": 1,
   "metadata": {
    "collapsed": false
   },
   "outputs": [],
   "source": [
    "import Orange\n",
    "import math\n",
    "import pandas as pd\n",
    "import numpy as np\n",
    "import matplotlib.pyplot as plt\n",
    "import re"
   ]
  },
  {
   "cell_type": "code",
   "execution_count": 2,
   "metadata": {
    "collapsed": true
   },
   "outputs": [],
   "source": [
    "data = pd.read_csv('C:/Users/MsSurgeon/Documents/BeelineHW/Data/Data PatternMining/a.txt', delimiter='\\t')"
   ]
  },
  {
   "cell_type": "code",
   "execution_count": 15,
   "metadata": {
    "collapsed": false
   },
   "outputs": [],
   "source": [
    "f = open('C:/Users/MsSurgeon/Documents/BeelineHW/Data/Data PatternMining/OrangFile.basket', 'w')\n",
    "for user in range(2000):\n",
    "    for item in range(3000):\n",
    "        if data.iloc[user,item]==1:\n",
    "            f.write(data.columns[item] + ', ')\n",
    "    f.write('\\n')\n",
    "f.close()        "
   ]
  },
  {
   "cell_type": "code",
   "execution_count": 95,
   "metadata": {
    "collapsed": false
   },
   "outputs": [
    {
     "data": {
      "text/plain": [
       "[[], {\"base business home\":1.000, \"based business home\":1.000, \"based business home opportunity\":1.000, \"business home\":1.000, \"business home idea\":1.000, \"business home opportunity\":1.000, \"business home work\":1.000, \"business idea small\":1.000, \"business internet opportunity\":1.000, \"business own start\":1.000, \"business small start\":1.000, \"cash earn\":1.000, \"cash earn extra\":1.000, \"computer make money\":1.000, \"earn extra home money\":1.000, \"earn extra income\":1.000, \"earn extra money\":1.000, \"earn from home money\":1.000, \"earn home money\":1.000, \"earn internet money\":1.000, \"earn money\":1.000, \"earn money online\":1.000, \"earn money web\":1.000, \"easy make money\":1.000, \"easy make money online\":1.000, \"easy make money way\":1.000, \"easy money\":1.000, \"fast make money\":1.000, \"fast make money ways\":1.000, \"finance\":1.000, \"from home make money\":1.000, \"from home work\":1.000, \"home make money\":1.000, \"home make money ways\":1.000, \"home make money working\":1.000, \"home making money\":1.000, \"home opportunity work\":1.000, \"idea making money\":1.000, \"internet make money\":1.000, \"internet make money over\":1.000, \"internet make money using\":1.000, \"internet make money ways\":1.000, \"internet making money\":1.000, \"internet money\":1.000, \"make money\":1.000, \"make money more\":1.000, \"make money net\":1.000, \"make money now\":1.000, \"make money online\":1.000, \"make money online ways\":1.000, \"make money quick\":1.000, \"make money quick ways\":1.000, \"make money site web\":1.000, \"make money ways\":1.000, \"make money web\":1.000, \"maker money\":1.000, \"making money\":1.000, \"making money online\":1.000, \"making money opportunity\":1.000, \"money\":1.000, \"money online\":1.000, \"work home\":1.000}]"
      ]
     },
     "execution_count": 95,
     "metadata": {},
     "output_type": "execute_result"
    }
   ],
   "source": [
    "dataO = Orange.data.Table('C:/Users/MsSurgeon/Documents/BeelineHW/Data/Data PatternMining/OrangFile.basket')\n",
    "dataO[:1]"
   ]
  },
  {
   "cell_type": "code",
   "execution_count": 100,
   "metadata": {
    "collapsed": false
   },
   "outputs": [
    {
     "name": "stdout",
     "output_type": "stream",
     "text": [
      "Supp Conf  Rule\n",
      "0.03  0.7  business home internet -> based business home internet\n",
      "0.03  0.7  based business home internet -> business home internet\n",
      "0.03  0.7  business home internet -> business home opportunity\n",
      "0.04  0.8  casino online -> casino gambling online\n",
      "0.04  0.8  casino gambling online -> casino online\n",
      "0.04  0.7  casino gambling online -> casino online gambling online\n",
      "0.04  0.9  casino gambling online gambling online -> casino online\n",
      "0.03  0.8  casino game online -> casino online casino gambling online\n",
      "0.03  0.7  casino internet -> casino online casino gambling online\n",
      "0.03  0.8  casino gambling -> casino online casino gambling online\n"
     ]
    }
   ],
   "source": [
    "support = 60./2000 #Потдержка 80ю компаиями\n",
    "rules = Orange.associate.AssociationRulesSparseInducer(dataO, support=support, confidence=0.7)\n",
    "print \"%4s %4s  %s\" % (\"Supp\", \"Conf\", \"Rule\")\n",
    "for r in rules[:10]:\n",
    "    print \"%4.2f %4.1f  %s\" % (r.support, r.confidence, r)"
   ]
  },
  {
   "cell_type": "code",
   "execution_count": 93,
   "metadata": {
    "collapsed": false
   },
   "outputs": [],
   "source": [
    "Matrix = [[ len(Orange.associate.AssociationRulesSparseInducer(dataO, support=supp/100.,confidence=conf/10.))\\\n",
    "               for conf in range(5,11,1)] \\\n",
    "                    for supp in range(3,6,1)] "
   ]
  },
  {
   "cell_type": "code",
   "execution_count": 94,
   "metadata": {
    "collapsed": false
   },
   "outputs": [
    {
     "data": {
      "text/html": [
       "<div>\n",
       "<table border=\"1\" class=\"dataframe\">\n",
       "  <thead>\n",
       "    <tr style=\"text-align: right;\">\n",
       "      <th></th>\n",
       "      <th>C_0.5</th>\n",
       "      <th>C_0.6</th>\n",
       "      <th>C_0.7</th>\n",
       "      <th>C_0.8</th>\n",
       "      <th>C_0.9</th>\n",
       "      <th>C_1</th>\n",
       "    </tr>\n",
       "  </thead>\n",
       "  <tbody>\n",
       "    <tr>\n",
       "      <th>S_0.03</th>\n",
       "      <td>837</td>\n",
       "      <td>576</td>\n",
       "      <td>346</td>\n",
       "      <td>114</td>\n",
       "      <td>26</td>\n",
       "      <td>0</td>\n",
       "    </tr>\n",
       "    <tr>\n",
       "      <th>S_0.04</th>\n",
       "      <td>80</td>\n",
       "      <td>52</td>\n",
       "      <td>35</td>\n",
       "      <td>11</td>\n",
       "      <td>2</td>\n",
       "      <td>0</td>\n",
       "    </tr>\n",
       "    <tr>\n",
       "      <th>S_0.05</th>\n",
       "      <td>12</td>\n",
       "      <td>12</td>\n",
       "      <td>9</td>\n",
       "      <td>3</td>\n",
       "      <td>0</td>\n",
       "      <td>0</td>\n",
       "    </tr>\n",
       "  </tbody>\n",
       "</table>\n",
       "</div>"
      ],
      "text/plain": [
       "        C_0.5  C_0.6  C_0.7  C_0.8  C_0.9  C_1\n",
       "S_0.03    837    576    346    114     26    0\n",
       "S_0.04     80     52     35     11      2    0\n",
       "S_0.05     12     12      9      3      0    0"
      ]
     },
     "execution_count": 94,
     "metadata": {},
     "output_type": "execute_result"
    }
   ],
   "source": [
    "pd.DataFrame(Matrix,columns=['C_0.5','C_0.6','C_0.7','C_0.8','C_0.9','C_1'], index=['S_0.03','S_0.04','S_0.05'])"
   ]
  },
  {
   "cell_type": "code",
   "execution_count": null,
   "metadata": {
    "collapsed": true
   },
   "outputs": [],
   "source": []
  }
 ],
 "metadata": {
  "kernelspec": {
   "display_name": "Python 2",
   "language": "python",
   "name": "python2"
  },
  "language_info": {
   "codemirror_mode": {
    "name": "ipython",
    "version": 2
   },
   "file_extension": ".py",
   "mimetype": "text/x-python",
   "name": "python",
   "nbconvert_exporter": "python",
   "pygments_lexer": "ipython2",
   "version": "2.7.10"
  },
  "widgets": {
   "state": {},
   "version": "1.1.2"
  }
 },
 "nbformat": 4,
 "nbformat_minor": 0
}
