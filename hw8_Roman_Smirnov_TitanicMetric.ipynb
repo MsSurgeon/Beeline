{
 "cells": [
  {
   "cell_type": "code",
   "execution_count": 52,
   "metadata": {
    "collapsed": false
   },
   "outputs": [
    {
     "name": "stdout",
     "output_type": "stream",
     "text": [
      "Populating the interactive namespace from numpy and matplotlib\n"
     ]
    }
   ],
   "source": [
    "from __future__ import division, print_function\n",
    "# отключим всякие предупреждения Anaconda\n",
    "import warnings\n",
    "warnings.filterwarnings('ignore')\n",
    "import numpy as np\n",
    "import pandas as pd\n",
    "from sklearn.cross_validation import train_test_split,cross_val_score\n",
    "from sklearn.ensemble import RandomForestClassifier\n",
    "from sklearn.metrics import roc_auc_score, accuracy_score, roc_curve\n",
    "%pylab inline\n",
    "import seaborn as sns\n",
    "figsize(12, 8)"
   ]
  },
  {
   "cell_type": "markdown",
   "metadata": {},
   "source": [
    "## Первое задание"
   ]
  },
  {
   "cell_type": "code",
   "execution_count": 53,
   "metadata": {
    "collapsed": false
   },
   "outputs": [],
   "source": [
    "train_df = pd.read_csv(\"C:/Users/MsSurgeon/Documents/BeelineGit/data/titanic_train.csv\")"
   ]
  },
  {
   "cell_type": "code",
   "execution_count": 54,
   "metadata": {
    "collapsed": true
   },
   "outputs": [],
   "source": [
    "y = train_df['Survived']"
   ]
  },
  {
   "cell_type": "code",
   "execution_count": 55,
   "metadata": {
    "collapsed": true
   },
   "outputs": [],
   "source": [
    "train_df['Age'] = train_df['Age'].fillna(train_df['Age'].median())\n",
    "train_df['Embarked'] = train_df['Embarked'].fillna('S')"
   ]
  },
  {
   "cell_type": "code",
   "execution_count": 56,
   "metadata": {
    "collapsed": true
   },
   "outputs": [],
   "source": [
    "train_df = pd.concat([train_df, pd.get_dummies(train_df['Pclass'], prefix=\"PClass\"),\n",
    "                      pd.get_dummies(train_df['Sex'], prefix=\"Sex\"),\n",
    "                      pd.get_dummies(train_df['SibSp'], prefix=\"SibSp\"),\n",
    "                      pd.get_dummies(train_df['Parch'], prefix=\"Parch\"),\n",
    "                     pd.get_dummies(train_df['Embarked'], prefix=\"Embarked\")],\n",
    "                     axis=1)"
   ]
  },
  {
   "cell_type": "code",
   "execution_count": 57,
   "metadata": {
    "collapsed": true
   },
   "outputs": [],
   "source": [
    "train_df.drop(['Survived', 'Pclass', 'Name', 'Sex', 'SibSp', \n",
    "               'Parch', 'Ticket', 'Cabin', 'Embarked', 'PassengerId'], axis=1, inplace=True)"
   ]
  },
  {
   "cell_type": "code",
   "execution_count": 58,
   "metadata": {
    "collapsed": false
   },
   "outputs": [
    {
     "data": {
      "text/html": [
       "<div>\n",
       "<table border=\"1\" class=\"dataframe\">\n",
       "  <thead>\n",
       "    <tr style=\"text-align: right;\">\n",
       "      <th></th>\n",
       "      <th>Age</th>\n",
       "      <th>Fare</th>\n",
       "      <th>PClass_1</th>\n",
       "      <th>PClass_2</th>\n",
       "      <th>PClass_3</th>\n",
       "      <th>Sex_female</th>\n",
       "      <th>Sex_male</th>\n",
       "      <th>SibSp_0</th>\n",
       "      <th>SibSp_1</th>\n",
       "      <th>SibSp_2</th>\n",
       "      <th>...</th>\n",
       "      <th>Parch_0</th>\n",
       "      <th>Parch_1</th>\n",
       "      <th>Parch_2</th>\n",
       "      <th>Parch_3</th>\n",
       "      <th>Parch_4</th>\n",
       "      <th>Parch_5</th>\n",
       "      <th>Parch_6</th>\n",
       "      <th>Embarked_C</th>\n",
       "      <th>Embarked_Q</th>\n",
       "      <th>Embarked_S</th>\n",
       "    </tr>\n",
       "  </thead>\n",
       "  <tbody>\n",
       "    <tr>\n",
       "      <th>0</th>\n",
       "      <td>22.0</td>\n",
       "      <td>7.2500</td>\n",
       "      <td>0.0</td>\n",
       "      <td>0.0</td>\n",
       "      <td>1.0</td>\n",
       "      <td>0.0</td>\n",
       "      <td>1.0</td>\n",
       "      <td>0.0</td>\n",
       "      <td>1.0</td>\n",
       "      <td>0.0</td>\n",
       "      <td>...</td>\n",
       "      <td>1.0</td>\n",
       "      <td>0.0</td>\n",
       "      <td>0.0</td>\n",
       "      <td>0.0</td>\n",
       "      <td>0.0</td>\n",
       "      <td>0.0</td>\n",
       "      <td>0.0</td>\n",
       "      <td>0.0</td>\n",
       "      <td>0.0</td>\n",
       "      <td>1.0</td>\n",
       "    </tr>\n",
       "    <tr>\n",
       "      <th>1</th>\n",
       "      <td>38.0</td>\n",
       "      <td>71.2833</td>\n",
       "      <td>1.0</td>\n",
       "      <td>0.0</td>\n",
       "      <td>0.0</td>\n",
       "      <td>1.0</td>\n",
       "      <td>0.0</td>\n",
       "      <td>0.0</td>\n",
       "      <td>1.0</td>\n",
       "      <td>0.0</td>\n",
       "      <td>...</td>\n",
       "      <td>1.0</td>\n",
       "      <td>0.0</td>\n",
       "      <td>0.0</td>\n",
       "      <td>0.0</td>\n",
       "      <td>0.0</td>\n",
       "      <td>0.0</td>\n",
       "      <td>0.0</td>\n",
       "      <td>1.0</td>\n",
       "      <td>0.0</td>\n",
       "      <td>0.0</td>\n",
       "    </tr>\n",
       "    <tr>\n",
       "      <th>2</th>\n",
       "      <td>26.0</td>\n",
       "      <td>7.9250</td>\n",
       "      <td>0.0</td>\n",
       "      <td>0.0</td>\n",
       "      <td>1.0</td>\n",
       "      <td>1.0</td>\n",
       "      <td>0.0</td>\n",
       "      <td>1.0</td>\n",
       "      <td>0.0</td>\n",
       "      <td>0.0</td>\n",
       "      <td>...</td>\n",
       "      <td>1.0</td>\n",
       "      <td>0.0</td>\n",
       "      <td>0.0</td>\n",
       "      <td>0.0</td>\n",
       "      <td>0.0</td>\n",
       "      <td>0.0</td>\n",
       "      <td>0.0</td>\n",
       "      <td>0.0</td>\n",
       "      <td>0.0</td>\n",
       "      <td>1.0</td>\n",
       "    </tr>\n",
       "    <tr>\n",
       "      <th>3</th>\n",
       "      <td>35.0</td>\n",
       "      <td>53.1000</td>\n",
       "      <td>1.0</td>\n",
       "      <td>0.0</td>\n",
       "      <td>0.0</td>\n",
       "      <td>1.0</td>\n",
       "      <td>0.0</td>\n",
       "      <td>0.0</td>\n",
       "      <td>1.0</td>\n",
       "      <td>0.0</td>\n",
       "      <td>...</td>\n",
       "      <td>1.0</td>\n",
       "      <td>0.0</td>\n",
       "      <td>0.0</td>\n",
       "      <td>0.0</td>\n",
       "      <td>0.0</td>\n",
       "      <td>0.0</td>\n",
       "      <td>0.0</td>\n",
       "      <td>0.0</td>\n",
       "      <td>0.0</td>\n",
       "      <td>1.0</td>\n",
       "    </tr>\n",
       "    <tr>\n",
       "      <th>4</th>\n",
       "      <td>35.0</td>\n",
       "      <td>8.0500</td>\n",
       "      <td>0.0</td>\n",
       "      <td>0.0</td>\n",
       "      <td>1.0</td>\n",
       "      <td>0.0</td>\n",
       "      <td>1.0</td>\n",
       "      <td>1.0</td>\n",
       "      <td>0.0</td>\n",
       "      <td>0.0</td>\n",
       "      <td>...</td>\n",
       "      <td>1.0</td>\n",
       "      <td>0.0</td>\n",
       "      <td>0.0</td>\n",
       "      <td>0.0</td>\n",
       "      <td>0.0</td>\n",
       "      <td>0.0</td>\n",
       "      <td>0.0</td>\n",
       "      <td>0.0</td>\n",
       "      <td>0.0</td>\n",
       "      <td>1.0</td>\n",
       "    </tr>\n",
       "  </tbody>\n",
       "</table>\n",
       "<p>5 rows × 24 columns</p>\n",
       "</div>"
      ],
      "text/plain": [
       "    Age     Fare  PClass_1  PClass_2  PClass_3  Sex_female  Sex_male  SibSp_0  \\\n",
       "0  22.0   7.2500       0.0       0.0       1.0         0.0       1.0      0.0   \n",
       "1  38.0  71.2833       1.0       0.0       0.0         1.0       0.0      0.0   \n",
       "2  26.0   7.9250       0.0       0.0       1.0         1.0       0.0      1.0   \n",
       "3  35.0  53.1000       1.0       0.0       0.0         1.0       0.0      0.0   \n",
       "4  35.0   8.0500       0.0       0.0       1.0         0.0       1.0      1.0   \n",
       "\n",
       "   SibSp_1  SibSp_2     ...      Parch_0  Parch_1  Parch_2  Parch_3  Parch_4  \\\n",
       "0      1.0      0.0     ...          1.0      0.0      0.0      0.0      0.0   \n",
       "1      1.0      0.0     ...          1.0      0.0      0.0      0.0      0.0   \n",
       "2      0.0      0.0     ...          1.0      0.0      0.0      0.0      0.0   \n",
       "3      1.0      0.0     ...          1.0      0.0      0.0      0.0      0.0   \n",
       "4      0.0      0.0     ...          1.0      0.0      0.0      0.0      0.0   \n",
       "\n",
       "   Parch_5  Parch_6  Embarked_C  Embarked_Q  Embarked_S  \n",
       "0      0.0      0.0         0.0         0.0         1.0  \n",
       "1      0.0      0.0         1.0         0.0         0.0  \n",
       "2      0.0      0.0         0.0         0.0         1.0  \n",
       "3      0.0      0.0         0.0         0.0         1.0  \n",
       "4      0.0      0.0         0.0         0.0         1.0  \n",
       "\n",
       "[5 rows x 24 columns]"
      ]
     },
     "execution_count": 58,
     "metadata": {},
     "output_type": "execute_result"
    }
   ],
   "source": [
    "train_df.head()"
   ]
  },
  {
   "cell_type": "code",
   "execution_count": 59,
   "metadata": {
    "collapsed": false
   },
   "outputs": [
    {
     "name": "stdout",
     "output_type": "stream",
     "text": [
      "0.829596412556\n"
     ]
    }
   ],
   "source": [
    "X_train, X_test, y_train, y_test = train_test_split(train_df,y)\n",
    "\n",
    "clf = RandomForestClassifier(random_state=42, n_estimators = 10, max_depth=5, min_samples_leaf=2)\n",
    "clf.fit(X_train,y_train)\n",
    "\n",
    "y_pred = clf.predict(X_test) # порог 0.5\n",
    "y_pred_proba = clf.predict_proba(X_test)[:,1]\n",
    "\n",
    "print (accuracy_score(y_test,y_pred))"
   ]
  },
  {
   "cell_type": "code",
   "execution_count": 60,
   "metadata": {
    "collapsed": false
   },
   "outputs": [
    {
     "data": {
      "text/html": [
       "<div>\n",
       "<table border=\"1\" class=\"dataframe\">\n",
       "  <thead>\n",
       "    <tr style=\"text-align: right;\">\n",
       "      <th></th>\n",
       "      <th>88</th>\n",
       "      <th>556</th>\n",
       "      <th>496</th>\n",
       "      <th>1</th>\n",
       "      <th>366</th>\n",
       "      <th>856</th>\n",
       "      <th>765</th>\n",
       "      <th>829</th>\n",
       "      <th>615</th>\n",
       "      <th>504</th>\n",
       "      <th>290</th>\n",
       "    </tr>\n",
       "  </thead>\n",
       "  <tbody>\n",
       "    <tr>\n",
       "      <th>Вероятность погибнуть</th>\n",
       "      <td>0.972639</td>\n",
       "      <td>0.972297</td>\n",
       "      <td>0.972297</td>\n",
       "      <td>0.972297</td>\n",
       "      <td>0.972297</td>\n",
       "      <td>0.945675</td>\n",
       "      <td>0.943634</td>\n",
       "      <td>0.940066</td>\n",
       "      <td>0.937862</td>\n",
       "      <td>0.935238</td>\n",
       "      <td>0.935238</td>\n",
       "    </tr>\n",
       "    <tr>\n",
       "      <th>Погиб</th>\n",
       "      <td>1.000000</td>\n",
       "      <td>1.000000</td>\n",
       "      <td>1.000000</td>\n",
       "      <td>1.000000</td>\n",
       "      <td>1.000000</td>\n",
       "      <td>1.000000</td>\n",
       "      <td>1.000000</td>\n",
       "      <td>1.000000</td>\n",
       "      <td>1.000000</td>\n",
       "      <td>1.000000</td>\n",
       "      <td>1.000000</td>\n",
       "    </tr>\n",
       "  </tbody>\n",
       "</table>\n",
       "</div>"
      ],
      "text/plain": [
       "                            88        556       496       1         366  \\\n",
       "Вероятность погибнуть  0.972639  0.972297  0.972297  0.972297  0.972297   \n",
       "Погиб                  1.000000  1.000000  1.000000  1.000000  1.000000   \n",
       "\n",
       "                            856       765       829       615       504  \\\n",
       "Вероятность погибнуть  0.945675  0.943634  0.940066  0.937862  0.935238   \n",
       "Погиб                  1.000000  1.000000  1.000000  1.000000  1.000000   \n",
       "\n",
       "                            290  \n",
       "Вероятность погибнуть  0.935238  \n",
       "Погиб                  1.000000  "
      ]
     },
     "execution_count": 60,
     "metadata": {},
     "output_type": "execute_result"
    }
   ],
   "source": [
    "df = pd.DataFrame({u'Вероятность погибнуть':y_pred_proba,u'Погиб':y_test})\n",
    "df.sort_values(u'Вероятность погибнуть',ascending=False,inplace=True)\n",
    "df.head(11).T"
   ]
  },
  {
   "cell_type": "code",
   "execution_count": 61,
   "metadata": {
    "collapsed": false
   },
   "outputs": [
    {
     "data": {
      "text/html": [
       "<div>\n",
       "<table border=\"1\" class=\"dataframe\">\n",
       "  <thead>\n",
       "    <tr style=\"text-align: right;\">\n",
       "      <th></th>\n",
       "      <th>88</th>\n",
       "      <th>556</th>\n",
       "      <th>496</th>\n",
       "      <th>1</th>\n",
       "      <th>366</th>\n",
       "      <th>856</th>\n",
       "      <th>765</th>\n",
       "      <th>829</th>\n",
       "      <th>615</th>\n",
       "      <th>504</th>\n",
       "      <th>290</th>\n",
       "    </tr>\n",
       "  </thead>\n",
       "  <tbody>\n",
       "    <tr>\n",
       "      <th>Вероятность погибнуть</th>\n",
       "      <td>0.972639</td>\n",
       "      <td>0.972297</td>\n",
       "      <td>0.972297</td>\n",
       "      <td>0.972297</td>\n",
       "      <td>0.972297</td>\n",
       "      <td>0.945675</td>\n",
       "      <td>0.943634</td>\n",
       "      <td>0.940066</td>\n",
       "      <td>0.937862</td>\n",
       "      <td>0.935238</td>\n",
       "      <td>0.935238</td>\n",
       "    </tr>\n",
       "    <tr>\n",
       "      <th>Погиб</th>\n",
       "      <td>1.000000</td>\n",
       "      <td>1.000000</td>\n",
       "      <td>1.000000</td>\n",
       "      <td>1.000000</td>\n",
       "      <td>1.000000</td>\n",
       "      <td>1.000000</td>\n",
       "      <td>1.000000</td>\n",
       "      <td>1.000000</td>\n",
       "      <td>1.000000</td>\n",
       "      <td>1.000000</td>\n",
       "      <td>1.000000</td>\n",
       "    </tr>\n",
       "    <tr>\n",
       "      <th>Кол-во пасажиров</th>\n",
       "      <td>1.000000</td>\n",
       "      <td>1.000000</td>\n",
       "      <td>1.000000</td>\n",
       "      <td>1.000000</td>\n",
       "      <td>1.000000</td>\n",
       "      <td>1.000000</td>\n",
       "      <td>1.000000</td>\n",
       "      <td>1.000000</td>\n",
       "      <td>1.000000</td>\n",
       "      <td>1.000000</td>\n",
       "      <td>1.000000</td>\n",
       "    </tr>\n",
       "    <tr>\n",
       "      <th>Кол-во пасажиров накоп. %</th>\n",
       "      <td>0.448430</td>\n",
       "      <td>0.896861</td>\n",
       "      <td>1.345291</td>\n",
       "      <td>1.793722</td>\n",
       "      <td>2.242152</td>\n",
       "      <td>2.690583</td>\n",
       "      <td>3.139013</td>\n",
       "      <td>3.587444</td>\n",
       "      <td>4.035874</td>\n",
       "      <td>4.484305</td>\n",
       "      <td>4.932735</td>\n",
       "    </tr>\n",
       "  </tbody>\n",
       "</table>\n",
       "</div>"
      ],
      "text/plain": [
       "                                88        556       496       1         366  \\\n",
       "Вероятность погибнуть      0.972639  0.972297  0.972297  0.972297  0.972297   \n",
       "Погиб                      1.000000  1.000000  1.000000  1.000000  1.000000   \n",
       "Кол-во пасажиров           1.000000  1.000000  1.000000  1.000000  1.000000   \n",
       "Кол-во пасажиров накоп. %  0.448430  0.896861  1.345291  1.793722  2.242152   \n",
       "\n",
       "                                856       765       829       615       504  \\\n",
       "Вероятность погибнуть      0.945675  0.943634  0.940066  0.937862  0.935238   \n",
       "Погиб                      1.000000  1.000000  1.000000  1.000000  1.000000   \n",
       "Кол-во пасажиров           1.000000  1.000000  1.000000  1.000000  1.000000   \n",
       "Кол-во пасажиров накоп. %  2.690583  3.139013  3.587444  4.035874  4.484305   \n",
       "\n",
       "                                290  \n",
       "Вероятность погибнуть      0.935238  \n",
       "Погиб                      1.000000  \n",
       "Кол-во пасажиров           1.000000  \n",
       "Кол-во пасажиров накоп. %  4.932735  "
      ]
     },
     "execution_count": 61,
     "metadata": {},
     "output_type": "execute_result"
    }
   ],
   "source": [
    "df[u'Кол-во пасажиров'] = 1\n",
    "df[u'Кол-во пасажиров накоп. %'] = 100 * df[u'Кол-во пасажиров'].cumsum() / df[u'Кол-во пасажиров'].sum()\n",
    "dfm = df\n",
    "df.head(11).T"
   ]
  },
  {
   "cell_type": "code",
   "execution_count": 62,
   "metadata": {
    "collapsed": false
   },
   "outputs": [
    {
     "data": {
      "text/html": [
       "<div>\n",
       "<table border=\"1\" class=\"dataframe\">\n",
       "  <thead>\n",
       "    <tr style=\"text-align: right;\">\n",
       "      <th></th>\n",
       "      <th>Кол-во пасажиров накоп. %</th>\n",
       "      <th>Погиб</th>\n",
       "    </tr>\n",
       "  </thead>\n",
       "  <tbody>\n",
       "    <tr>\n",
       "      <th>0</th>\n",
       "      <td>0</td>\n",
       "      <td>0</td>\n",
       "    </tr>\n",
       "    <tr>\n",
       "      <th>1</th>\n",
       "      <td>10</td>\n",
       "      <td>21</td>\n",
       "    </tr>\n",
       "    <tr>\n",
       "      <th>2</th>\n",
       "      <td>20</td>\n",
       "      <td>20</td>\n",
       "    </tr>\n",
       "    <tr>\n",
       "      <th>3</th>\n",
       "      <td>30</td>\n",
       "      <td>11</td>\n",
       "    </tr>\n",
       "    <tr>\n",
       "      <th>4</th>\n",
       "      <td>40</td>\n",
       "      <td>10</td>\n",
       "    </tr>\n",
       "    <tr>\n",
       "      <th>5</th>\n",
       "      <td>50</td>\n",
       "      <td>6</td>\n",
       "    </tr>\n",
       "    <tr>\n",
       "      <th>6</th>\n",
       "      <td>60</td>\n",
       "      <td>4</td>\n",
       "    </tr>\n",
       "    <tr>\n",
       "      <th>7</th>\n",
       "      <td>70</td>\n",
       "      <td>2</td>\n",
       "    </tr>\n",
       "    <tr>\n",
       "      <th>8</th>\n",
       "      <td>80</td>\n",
       "      <td>2</td>\n",
       "    </tr>\n",
       "    <tr>\n",
       "      <th>9</th>\n",
       "      <td>90</td>\n",
       "      <td>1</td>\n",
       "    </tr>\n",
       "    <tr>\n",
       "      <th>10</th>\n",
       "      <td>100</td>\n",
       "      <td>2</td>\n",
       "    </tr>\n",
       "  </tbody>\n",
       "</table>\n",
       "</div>"
      ],
      "text/plain": [
       "   Кол-во пасажиров накоп. % Погиб\n",
       "0                          0     0\n",
       "1                         10    21\n",
       "2                         20    20\n",
       "3                         30    11\n",
       "4                         40    10\n",
       "5                         50     6\n",
       "6                         60     4\n",
       "7                         70     2\n",
       "8                         80     2\n",
       "9                         90     1\n",
       "10                       100     2"
      ]
     },
     "execution_count": 62,
     "metadata": {},
     "output_type": "execute_result"
    }
   ],
   "source": [
    "decile = pd.cut(df[u'Кол-во пасажиров накоп. %'],\n",
    " np.arange(0,1.1,0.1)*100,\n",
    " labels=np.arange(0.1,1.1,0.1)*100)\n",
    "\n",
    "df = df.groupby(decile)[u'Погиб'].sum().reset_index()\n",
    "df = pd.DataFrame(np.concatenate([[[0,0]],df.values,]),columns=df.columns)\n",
    "df"
   ]
  },
  {
   "cell_type": "code",
   "execution_count": 63,
   "metadata": {
    "collapsed": false
   },
   "outputs": [
    {
     "data": {
      "text/plain": [
       "<matplotlib.text.Text at 0x201ab208>"
      ]
     },
     "execution_count": 63,
     "metadata": {},
     "output_type": "execute_result"
    },
    {
     "data": {
      "image/png": "[encoded data removed]",
      "text/plain": [
       "<matplotlib.figure.Figure at 0x1ff8d278>"
      ]
     },
     "metadata": {},
     "output_type": "display_data"
    }
   ],
   "source": [
    "df[u'Погибшие накоп. %'] = 100 * df[u'Погиб'].cumsum()/df[u'Погиб'].sum()\n",
    "df[u'Кол-во пасажиров накоп. %'] = df[u'Кол-во пасажиров накоп. %'].astype('float64')\n",
    "df.plot(u'Кол-во пасажиров накоп. %',\n",
    "        u'Погибшие накоп. %',\n",
    "        xlim=[0,100],ylim=[0,110],\n",
    "       label=u'Модель',figsize=(8, 6))\n",
    "\n",
    "plt.plot(df[u'Кол-во пасажиров накоп. %'],\n",
    "         df[u'Кол-во пасажиров накоп. %'],\n",
    "        label=u'Случайный')\n",
    "plt.legend(loc='lower right')\n",
    "plt.ylabel(u'Погибшие накоп. %')"
   ]
  },
  {
   "cell_type": "code",
   "execution_count": 64,
   "metadata": {
    "collapsed": false
   },
   "outputs": [
    {
     "data": {
      "text/html": [
       "<div>\n",
       "<table border=\"1\" class=\"dataframe\">\n",
       "  <thead>\n",
       "    <tr style=\"text-align: right;\">\n",
       "      <th></th>\n",
       "      <th>Кол-во пасажиров накоп. %</th>\n",
       "      <th>Погиб</th>\n",
       "      <th>Погибшие накоп. %</th>\n",
       "      <th>lift</th>\n",
       "    </tr>\n",
       "  </thead>\n",
       "  <tbody>\n",
       "    <tr>\n",
       "      <th>1</th>\n",
       "      <td>10.0</td>\n",
       "      <td>21</td>\n",
       "      <td>26.5823</td>\n",
       "      <td>2.65823</td>\n",
       "    </tr>\n",
       "    <tr>\n",
       "      <th>2</th>\n",
       "      <td>20.0</td>\n",
       "      <td>20</td>\n",
       "      <td>51.8987</td>\n",
       "      <td>2.59494</td>\n",
       "    </tr>\n",
       "    <tr>\n",
       "      <th>3</th>\n",
       "      <td>30.0</td>\n",
       "      <td>11</td>\n",
       "      <td>65.8228</td>\n",
       "      <td>2.19409</td>\n",
       "    </tr>\n",
       "    <tr>\n",
       "      <th>4</th>\n",
       "      <td>40.0</td>\n",
       "      <td>10</td>\n",
       "      <td>78.481</td>\n",
       "      <td>1.96203</td>\n",
       "    </tr>\n",
       "    <tr>\n",
       "      <th>5</th>\n",
       "      <td>50.0</td>\n",
       "      <td>6</td>\n",
       "      <td>86.0759</td>\n",
       "      <td>1.72152</td>\n",
       "    </tr>\n",
       "    <tr>\n",
       "      <th>6</th>\n",
       "      <td>60.0</td>\n",
       "      <td>4</td>\n",
       "      <td>91.1392</td>\n",
       "      <td>1.51899</td>\n",
       "    </tr>\n",
       "    <tr>\n",
       "      <th>7</th>\n",
       "      <td>70.0</td>\n",
       "      <td>2</td>\n",
       "      <td>93.6709</td>\n",
       "      <td>1.33816</td>\n",
       "    </tr>\n",
       "    <tr>\n",
       "      <th>8</th>\n",
       "      <td>80.0</td>\n",
       "      <td>2</td>\n",
       "      <td>96.2025</td>\n",
       "      <td>1.20253</td>\n",
       "    </tr>\n",
       "    <tr>\n",
       "      <th>9</th>\n",
       "      <td>90.0</td>\n",
       "      <td>1</td>\n",
       "      <td>97.4684</td>\n",
       "      <td>1.08298</td>\n",
       "    </tr>\n",
       "    <tr>\n",
       "      <th>10</th>\n",
       "      <td>100.0</td>\n",
       "      <td>2</td>\n",
       "      <td>100</td>\n",
       "      <td>1</td>\n",
       "    </tr>\n",
       "  </tbody>\n",
       "</table>\n",
       "</div>"
      ],
      "text/plain": [
       "    Кол-во пасажиров накоп. % Погиб Погибшие накоп. %     lift\n",
       "1                        10.0    21           26.5823  2.65823\n",
       "2                        20.0    20           51.8987  2.59494\n",
       "3                        30.0    11           65.8228  2.19409\n",
       "4                        40.0    10            78.481  1.96203\n",
       "5                        50.0     6           86.0759  1.72152\n",
       "6                        60.0     4           91.1392  1.51899\n",
       "7                        70.0     2           93.6709  1.33816\n",
       "8                        80.0     2           96.2025  1.20253\n",
       "9                        90.0     1           97.4684  1.08298\n",
       "10                      100.0     2               100        1"
      ]
     },
     "execution_count": 64,
     "metadata": {},
     "output_type": "execute_result"
    }
   ],
   "source": [
    "df = df.loc[1:]\n",
    "df['lift'] = df[u'Погибшие накоп. %']/(df[u'Кол-во пасажиров накоп. %'])\n",
    "df"
   ]
  },
  {
   "cell_type": "code",
   "execution_count": 65,
   "metadata": {
    "collapsed": false
   },
   "outputs": [
    {
     "data": {
      "text/plain": [
       "<matplotlib.collections.LineCollection at 0x1fc8b6d8>"
      ]
     },
     "execution_count": 65,
     "metadata": {},
     "output_type": "execute_result"
    },
    {
     "data": {
      "image/png": "[encoded data removed]",
      "text/plain": [
       "<matplotlib.figure.Figure at 0x20134f60>"
      ]
     },
     "metadata": {},
     "output_type": "display_data"
    }
   ],
   "source": [
    "df.plot(u'Кол-во пасажиров накоп. %','lift',ylim=[0,3],figsize=(8, 6))\n",
    "plt.hlines(1,0,100)"
   ]
  },
  {
   "cell_type": "code",
   "execution_count": 66,
   "metadata": {
    "collapsed": false
   },
   "outputs": [
    {
     "data": {
      "text/plain": [
       "1.7273457906369294"
      ]
     },
     "execution_count": 66,
     "metadata": {},
     "output_type": "execute_result"
    }
   ],
   "source": [
    "df.lift.mean()"
   ]
  },
  {
   "cell_type": "code",
   "execution_count": 67,
   "metadata": {
    "collapsed": false
   },
   "outputs": [
    {
     "data": {
      "text/html": [
       "<div>\n",
       "<table border=\"1\" class=\"dataframe\">\n",
       "  <thead>\n",
       "    <tr style=\"text-align: right;\">\n",
       "      <th></th>\n",
       "      <th>Кол-во пасажиров накоп. %</th>\n",
       "      <th>Погиб</th>\n",
       "      <th>Погибшие накоп. %</th>\n",
       "      <th>lift</th>\n",
       "    </tr>\n",
       "  </thead>\n",
       "  <tbody>\n",
       "    <tr>\n",
       "      <th>5</th>\n",
       "      <td>50.0</td>\n",
       "      <td>6</td>\n",
       "      <td>86.0759</td>\n",
       "      <td>1.72152</td>\n",
       "    </tr>\n",
       "  </tbody>\n",
       "</table>\n",
       "</div>"
      ],
      "text/plain": [
       "   Кол-во пасажиров накоп. % Погиб Погибшие накоп. %     lift\n",
       "5                       50.0     6           86.0759  1.72152"
      ]
     },
     "execution_count": 67,
     "metadata": {},
     "output_type": "execute_result"
    }
   ],
   "source": [
    "df[df[u'Кол-во пасажиров накоп. %'] == 50]"
   ]
  },
  {
   "cell_type": "markdown",
   "metadata": {
    "collapsed": true
   },
   "source": [
    "## Второе задание"
   ]
  },
  {
   "cell_type": "code",
   "execution_count": 273,
   "metadata": {
    "collapsed": false
   },
   "outputs": [
    {
     "data": {
      "text/plain": [
       "<matplotlib.text.Text at 0x2381e710>"
      ]
     },
     "execution_count": 273,
     "metadata": {},
     "output_type": "execute_result"
    },
    {
     "data": {
      "image/png": "[encoded data removed]",
      "text/plain": [
       "<matplotlib.figure.Figure at 0x237b0cc0>"
      ]
     },
     "metadata": {},
     "output_type": "display_data"
    }
   ],
   "source": [
    "threshold = np.empty((0,2))\n",
    "for X in np.arange(0,1,0.1):\n",
    "    setX = dfm[dfm[u'Вероятность погибнуть'] <= X][u'Вероятность погибнуть']\n",
    "    if not setX.empty: \n",
    "        threshold = append(threshold,\\\n",
    "                        [[(((setX/setX.sum())*dfm[u'Погиб']).sum())*dfm[u'Кол-во пасажиров'].sum(),X]],axis=0)\n",
    "plt.plot(threshold[:,1],\n",
    "         threshold[:,0])\n",
    "\n",
    "plt.xlabel(u'Парог вероятности')\n",
    "plt.ylabel(u'Число погипших')"
   ]
  },
  {
   "cell_type": "markdown",
   "metadata": {},
   "source": [
    "## Третье задание"
   ]
  },
  {
   "cell_type": "code",
   "execution_count": 106,
   "metadata": {
    "collapsed": true
   },
   "outputs": [],
   "source": [
    "dfm[u'Потенциальный доход'] = 10000"
   ]
  },
  {
   "cell_type": "code",
   "execution_count": 239,
   "metadata": {
    "collapsed": false
   },
   "outputs": [
    {
     "data": {
      "text/plain": [
       "<matplotlib.text.Text at 0x221eb710>"
      ]
     },
     "execution_count": 239,
     "metadata": {},
     "output_type": "execute_result"
    },
    {
     "data": {
      "image/png": "[encoded data removed]",
      "text/plain": [
       "<matplotlib.figure.Figure at 0x22356470>"
      ]
     },
     "metadata": {},
     "output_type": "display_data"
    }
   ],
   "source": [
    "insurance = np.empty((0,2))\n",
    "for X in np.arange(0,1,0.1):\n",
    "    X_person = dfm[dfm[u'Вероятность погибнуть'] >= X]\n",
    "    Y_person = dfm[dfm[u'Вероятность погибнуть'] < X]\n",
    "    if not X_person.empty and not Y_person.empty: \n",
    "        insurance = append(insurance,\\\n",
    "                        [[X_person[u'Потенциальный доход'].sum()/Y_person[u'Кол-во пасажиров'].sum(),X]],axis=0)\n",
    "\n",
    "plt.plot(insurance[:,1],\n",
    "         insurance[:,0])\n",
    "\n",
    "plt.xlabel(u'Парог отказов')\n",
    "plt.ylabel(u'Cумма страхового взноса')"
   ]
  },
  {
   "cell_type": "code",
   "execution_count": null,
   "metadata": {
    "collapsed": true
   },
   "outputs": [],
   "source": []
  }
 ],
 "metadata": {
  "kernelspec": {
   "display_name": "Python 2",
   "language": "python",
   "name": "python2"
  },
  "language_info": {
   "codemirror_mode": {
    "name": "ipython",
    "version": 2
   },
   "file_extension": ".py",
   "mimetype": "text/x-python",
   "name": "python",
   "nbconvert_exporter": "python",
   "pygments_lexer": "ipython2",
   "version": "2.7.10"
  },
  "widgets": {
   "state": {},
   "version": "1.1.2"
  }
 },
 "nbformat": 4,
 "nbformat_minor": 0
}
