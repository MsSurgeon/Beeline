{
 "cells": [
  {
   "cell_type": "code",
   "execution_count": 1,
   "metadata": {
    "collapsed": false
   },
   "outputs": [
    {
     "name": "stdout",
     "output_type": "stream",
     "text": [
      "Populating the interactive namespace from numpy and matplotlib\n",
      "Populating the interactive namespace from numpy and matplotlib\n"
     ]
    }
   ],
   "source": [
    "from __future__ import division, print_function\n",
    "# отключим всякие предупреждения Anaconda\n",
    "import warnings\n",
    "warnings.filterwarnings('ignore')\n",
    "%pylab inline\n",
    "\n",
    "from sklearn.preprocessing import StandardScaler\n",
    "from sklearn.preprocessing import LabelEncoder\n",
    "from sklearn.cross_validation import train_test_split\n",
    "\n",
    "import seaborn as sns\n",
    "import math\n",
    "import pandas as pd\n",
    "import networkx as nx\n",
    "import itertools as IT\n",
    "import numpy as np\n",
    "import random as rnd \n",
    "import pylab as plt\n",
    "%pylab inline\n",
    "import re"
   ]
  },
  {
   "cell_type": "code",
   "execution_count": 2,
   "metadata": {
    "collapsed": false
   },
   "outputs": [],
   "source": [
    "graph = nx.read_edgelist(\"C:/Users/MsSurgeon/Documents/BeelineHW/Data/social_network_11.csv\",delimiter=',')\n",
    "edge = pd.read_csv(\"C:/Users/MsSurgeon/Documents/BeelineHW/Data/social_network_11.csv\", names=['i','j'], dtype='str')\n",
    "edge = edge[edge['i'] != edge['j']]\n",
    "edge.index = np.arange(0, len(edge))\n",
    "edge['y']=1"
   ]
  },
  {
   "cell_type": "code",
   "execution_count": 3,
   "metadata": {
    "collapsed": false
   },
   "outputs": [],
   "source": [
    "counter = 0\n",
    "missing = []\n",
    "for pair in IT.combinations(graph.nodes(), 2):\n",
    "    counter = counter + 1\n",
    "    if counter > 1000000:\n",
    "        break\n",
    "    if not graph.has_edge(*pair):\n",
    "        missing.append(pair)"
   ]
  },
  {
   "cell_type": "code",
   "execution_count": 4,
   "metadata": {
    "collapsed": false
   },
   "outputs": [],
   "source": [
    "missing = rnd.sample(missing,35000)\n",
    "missing = pd.DataFrame(missing,columns=['i','j'], dtype='str')\n",
    "missing['y'] = 0"
   ]
  },
  {
   "cell_type": "code",
   "execution_count": 5,
   "metadata": {
    "collapsed": true
   },
   "outputs": [],
   "source": [
    "df = pd.concat([edge, missing], ignore_index=True)"
   ]
  },
  {
   "cell_type": "code",
   "execution_count": 6,
   "metadata": {
    "collapsed": false
   },
   "outputs": [],
   "source": [
    "df = df.sample(frac=1).reset_index(drop=True)\n",
    "check=df"
   ]
  },
  {
   "cell_type": "markdown",
   "metadata": {},
   "source": [
    "Удаление ~ 20% связей"
   ]
  },
  {
   "cell_type": "code",
   "execution_count": 7,
   "metadata": {
    "collapsed": false
   },
   "outputs": [],
   "source": [
    "removeEdge = edge.sample(int(round(len(edge)*0.2)))"
   ]
  },
  {
   "cell_type": "code",
   "execution_count": 8,
   "metadata": {
    "collapsed": true
   },
   "outputs": [],
   "source": [
    "for index, rE in removeEdge.iterrows():\n",
    "    if graph.has_edge(str(rE['i']), str(rE['j'])):\n",
    "        graph.remove_edge(str(rE['i']), str(rE['j']))"
   ]
  },
  {
   "cell_type": "code",
   "execution_count": 9,
   "metadata": {
    "collapsed": false
   },
   "outputs": [],
   "source": [
    "df['i_Degree'] = df['i'].apply(lambda x: graph.degree(x))\n",
    "df['j_Degree'] = df['j'].apply(lambda x: graph.degree(x))"
   ]
  },
  {
   "cell_type": "code",
   "execution_count": 10,
   "metadata": {
    "collapsed": false
   },
   "outputs": [],
   "source": [
    "def GraphDist(row):\n",
    "    try:\n",
    "        return  nx.shortest_path_length(graph,row['i'],row['j'])\n",
    "    except nx.NetworkXNoPath:\n",
    "        return -1\n",
    "        \n",
    "df['GraphDist'] = df.apply(GraphDist, axis=1)"
   ]
  },
  {
   "cell_type": "code",
   "execution_count": 11,
   "metadata": {
    "collapsed": false
   },
   "outputs": [],
   "source": [
    "def CommonN(row):\n",
    "    try:\n",
    "        return  len(sorted(nx.common_neighbors(graph,row['i'],row['j'])))\n",
    "    except nx.NetworkXNoPath:\n",
    "        return -1\n",
    "df['CommonN'] = df.apply(CommonN, axis=1)"
   ]
  },
  {
   "cell_type": "code",
   "execution_count": 12,
   "metadata": {
    "collapsed": false
   },
   "outputs": [],
   "source": [
    "def Jaccard(row):\n",
    "    if row['i_Degree']*row['j_Degree'] != 0:\n",
    "        return row['CommonN']/(row['i_Degree']+row['j_Degree']-row['CommonN'])\n",
    "    else:\n",
    "        return -1\n",
    "df['Jaccard'] = df.apply(Jaccard, axis=1)"
   ]
  },
  {
   "cell_type": "code",
   "execution_count": 13,
   "metadata": {
    "collapsed": false
   },
   "outputs": [],
   "source": [
    "def Sorensen(row):\n",
    "    if row['i_Degree']*row['j_Degree'] != 0:\n",
    "        return 2*row['CommonN']/(row['i_Degree']+row['j_Degree'])\n",
    "    else:\n",
    "        return -1\n",
    "df['Sorensen'] = df.apply(Sorensen, axis=1)"
   ]
  },
  {
   "cell_type": "code",
   "execution_count": 14,
   "metadata": {
    "collapsed": false
   },
   "outputs": [],
   "source": [
    "def LHNI(row):\n",
    "    if row['i_Degree']*row['j_Degree'] != 0:\n",
    "        return row['CommonN']/(row['i_Degree']*row['j_Degree'])\n",
    "    else:\n",
    "        return -1\n",
    "df['LHNI'] = df.apply(LHNI, axis=1)"
   ]
  },
  {
   "cell_type": "code",
   "execution_count": 15,
   "metadata": {
    "collapsed": false
   },
   "outputs": [],
   "source": [
    "def HPI(row):\n",
    "    if row['i_Degree'] > row['j_Degree']:\n",
    "        if row['j_Degree']!=0:\n",
    "            return row['CommonN']/row['j_Degree']\n",
    "        else:\n",
    "            return -1\n",
    "    else:\n",
    "        if row['i_Degree']!=0:\n",
    "            return row['CommonN']/row['i_Degree']\n",
    "        else:\n",
    "            return -1\n",
    "df['HPI'] = df.apply(HPI, axis=1)"
   ]
  },
  {
   "cell_type": "code",
   "execution_count": 16,
   "metadata": {
    "collapsed": false
   },
   "outputs": [],
   "source": [
    "def HDI(row):\n",
    "    if row['i_Degree'] > row['j_Degree']:\n",
    "        if row['j_Degree']!=0:\n",
    "            return row['CommonN']/row['i_Degree']\n",
    "        else:\n",
    "            return -1\n",
    "    else:\n",
    "        if row['i_Degree']!=0:\n",
    "            return row['CommonN']/row['j_Degree']\n",
    "        else:\n",
    "            return -1\n",
    "df['HDI'] = df.apply(HDI, axis=1)"
   ]
  },
  {
   "cell_type": "code",
   "execution_count": 17,
   "metadata": {
    "collapsed": false
   },
   "outputs": [],
   "source": [
    "def Adamic_Adar(row):\n",
    "    summ = 0\n",
    "    try:\n",
    "        neighbors = nx.common_neighbors(graph,row['i'],row['j'])\n",
    "    except nx.NetworkXNoPath:\n",
    "        return -1\n",
    "    for n in neighbors:\n",
    "        try:\n",
    "            A_A = 1/math.log(graph.degree(n))\n",
    "        except nx.NetworkXNoPath:\n",
    "            return -1\n",
    "        summ = summ + A_A\n",
    "    return summ\n",
    "df['Adamic_Adar'] = df.apply(Adamic_Adar, axis=1)"
   ]
  },
  {
   "cell_type": "code",
   "execution_count": 18,
   "metadata": {
    "collapsed": true
   },
   "outputs": [],
   "source": [
    "def ResourceAllocation(row):\n",
    "    summ = 0\n",
    "    try:\n",
    "        neighbors = nx.common_neighbors(graph,row['i'],row['j'])\n",
    "    except nx.NetworkXNoPath:\n",
    "        return -1\n",
    "    for n in neighbors:\n",
    "        try:\n",
    "            A_A = 1/abs(graph.degree(n))\n",
    "        except nx.NetworkXNoPath:\n",
    "            return -1\n",
    "        summ = summ + A_A\n",
    "    return summ\n",
    "df['ResourceAllocation'] = df.apply(ResourceAllocation, axis=1)"
   ]
  },
  {
   "cell_type": "code",
   "execution_count": 19,
   "metadata": {
    "collapsed": true
   },
   "outputs": [],
   "source": [
    "df['PrefAttach'] = df['i_Degree']*df['j_Degree']"
   ]
  },
  {
   "cell_type": "code",
   "execution_count": 20,
   "metadata": {
    "collapsed": false
   },
   "outputs": [
    {
     "data": {
      "text/html": [
       "<div>\n",
       "<table border=\"1\" class=\"dataframe\">\n",
       "  <thead>\n",
       "    <tr style=\"text-align: right;\">\n",
       "      <th></th>\n",
       "      <th>0</th>\n",
       "      <th>1</th>\n",
       "      <th>2</th>\n",
       "      <th>3</th>\n",
       "      <th>4</th>\n",
       "      <th>5</th>\n",
       "      <th>6</th>\n",
       "      <th>7</th>\n",
       "      <th>8</th>\n",
       "      <th>9</th>\n",
       "      <th>10</th>\n",
       "      <th>11</th>\n",
       "      <th>12</th>\n",
       "      <th>13</th>\n",
       "      <th>14</th>\n",
       "      <th>15</th>\n",
       "      <th>16</th>\n",
       "      <th>17</th>\n",
       "      <th>18</th>\n",
       "      <th>19</th>\n",
       "    </tr>\n",
       "  </thead>\n",
       "  <tbody>\n",
       "    <tr>\n",
       "      <th>i</th>\n",
       "      <td>7902</td>\n",
       "      <td>7269</td>\n",
       "      <td>397</td>\n",
       "      <td>553</td>\n",
       "      <td>9527</td>\n",
       "      <td>1928</td>\n",
       "      <td>7180</td>\n",
       "      <td>3295</td>\n",
       "      <td>4274</td>\n",
       "      <td>1070</td>\n",
       "      <td>11544</td>\n",
       "      <td>3404</td>\n",
       "      <td>5508</td>\n",
       "      <td>7183</td>\n",
       "      <td>3519</td>\n",
       "      <td>8849</td>\n",
       "      <td>274</td>\n",
       "      <td>1179</td>\n",
       "      <td>1171</td>\n",
       "      <td>4481</td>\n",
       "    </tr>\n",
       "    <tr>\n",
       "      <th>j</th>\n",
       "      <td>5178</td>\n",
       "      <td>7408</td>\n",
       "      <td>1352</td>\n",
       "      <td>5782</td>\n",
       "      <td>1217</td>\n",
       "      <td>5564</td>\n",
       "      <td>107</td>\n",
       "      <td>484</td>\n",
       "      <td>190</td>\n",
       "      <td>148</td>\n",
       "      <td>10985</td>\n",
       "      <td>3875</td>\n",
       "      <td>258</td>\n",
       "      <td>9383</td>\n",
       "      <td>8951</td>\n",
       "      <td>5794</td>\n",
       "      <td>5417</td>\n",
       "      <td>1864</td>\n",
       "      <td>2948</td>\n",
       "      <td>7648</td>\n",
       "    </tr>\n",
       "    <tr>\n",
       "      <th>y</th>\n",
       "      <td>1</td>\n",
       "      <td>1</td>\n",
       "      <td>1</td>\n",
       "      <td>1</td>\n",
       "      <td>0</td>\n",
       "      <td>1</td>\n",
       "      <td>0</td>\n",
       "      <td>1</td>\n",
       "      <td>1</td>\n",
       "      <td>1</td>\n",
       "      <td>0</td>\n",
       "      <td>1</td>\n",
       "      <td>1</td>\n",
       "      <td>0</td>\n",
       "      <td>0</td>\n",
       "      <td>1</td>\n",
       "      <td>0</td>\n",
       "      <td>0</td>\n",
       "      <td>0</td>\n",
       "      <td>1</td>\n",
       "    </tr>\n",
       "    <tr>\n",
       "      <th>i_Degree</th>\n",
       "      <td>23</td>\n",
       "      <td>9</td>\n",
       "      <td>31</td>\n",
       "      <td>13</td>\n",
       "      <td>0</td>\n",
       "      <td>41</td>\n",
       "      <td>1</td>\n",
       "      <td>14</td>\n",
       "      <td>19</td>\n",
       "      <td>29</td>\n",
       "      <td>0</td>\n",
       "      <td>13</td>\n",
       "      <td>16</td>\n",
       "      <td>8</td>\n",
       "      <td>6</td>\n",
       "      <td>11</td>\n",
       "      <td>2</td>\n",
       "      <td>7</td>\n",
       "      <td>8</td>\n",
       "      <td>17</td>\n",
       "    </tr>\n",
       "    <tr>\n",
       "      <th>j_Degree</th>\n",
       "      <td>7</td>\n",
       "      <td>1</td>\n",
       "      <td>49</td>\n",
       "      <td>4</td>\n",
       "      <td>16</td>\n",
       "      <td>5</td>\n",
       "      <td>31</td>\n",
       "      <td>20</td>\n",
       "      <td>43</td>\n",
       "      <td>40</td>\n",
       "      <td>1</td>\n",
       "      <td>4</td>\n",
       "      <td>71</td>\n",
       "      <td>0</td>\n",
       "      <td>0</td>\n",
       "      <td>3</td>\n",
       "      <td>0</td>\n",
       "      <td>12</td>\n",
       "      <td>3</td>\n",
       "      <td>4</td>\n",
       "    </tr>\n",
       "    <tr>\n",
       "      <th>GraphDist</th>\n",
       "      <td>1</td>\n",
       "      <td>1</td>\n",
       "      <td>1</td>\n",
       "      <td>3</td>\n",
       "      <td>-1</td>\n",
       "      <td>1</td>\n",
       "      <td>4</td>\n",
       "      <td>1</td>\n",
       "      <td>1</td>\n",
       "      <td>1</td>\n",
       "      <td>-1</td>\n",
       "      <td>2</td>\n",
       "      <td>1</td>\n",
       "      <td>-1</td>\n",
       "      <td>-1</td>\n",
       "      <td>1</td>\n",
       "      <td>-1</td>\n",
       "      <td>4</td>\n",
       "      <td>3</td>\n",
       "      <td>1</td>\n",
       "    </tr>\n",
       "    <tr>\n",
       "      <th>CommonN</th>\n",
       "      <td>0</td>\n",
       "      <td>0</td>\n",
       "      <td>5</td>\n",
       "      <td>0</td>\n",
       "      <td>0</td>\n",
       "      <td>3</td>\n",
       "      <td>0</td>\n",
       "      <td>0</td>\n",
       "      <td>0</td>\n",
       "      <td>2</td>\n",
       "      <td>0</td>\n",
       "      <td>2</td>\n",
       "      <td>3</td>\n",
       "      <td>0</td>\n",
       "      <td>0</td>\n",
       "      <td>0</td>\n",
       "      <td>0</td>\n",
       "      <td>0</td>\n",
       "      <td>0</td>\n",
       "      <td>1</td>\n",
       "    </tr>\n",
       "    <tr>\n",
       "      <th>Jaccard</th>\n",
       "      <td>0</td>\n",
       "      <td>0</td>\n",
       "      <td>0.0666667</td>\n",
       "      <td>0</td>\n",
       "      <td>-1</td>\n",
       "      <td>0.0697674</td>\n",
       "      <td>0</td>\n",
       "      <td>0</td>\n",
       "      <td>0</td>\n",
       "      <td>0.0298507</td>\n",
       "      <td>-1</td>\n",
       "      <td>0.133333</td>\n",
       "      <td>0.0357143</td>\n",
       "      <td>-1</td>\n",
       "      <td>-1</td>\n",
       "      <td>0</td>\n",
       "      <td>-1</td>\n",
       "      <td>0</td>\n",
       "      <td>0</td>\n",
       "      <td>0.05</td>\n",
       "    </tr>\n",
       "    <tr>\n",
       "      <th>Sorensen</th>\n",
       "      <td>0</td>\n",
       "      <td>0</td>\n",
       "      <td>0.125</td>\n",
       "      <td>0</td>\n",
       "      <td>-1</td>\n",
       "      <td>0.130435</td>\n",
       "      <td>0</td>\n",
       "      <td>0</td>\n",
       "      <td>0</td>\n",
       "      <td>0.057971</td>\n",
       "      <td>-1</td>\n",
       "      <td>0.235294</td>\n",
       "      <td>0.0689655</td>\n",
       "      <td>-1</td>\n",
       "      <td>-1</td>\n",
       "      <td>0</td>\n",
       "      <td>-1</td>\n",
       "      <td>0</td>\n",
       "      <td>0</td>\n",
       "      <td>0.0952381</td>\n",
       "    </tr>\n",
       "    <tr>\n",
       "      <th>LHNI</th>\n",
       "      <td>0</td>\n",
       "      <td>0</td>\n",
       "      <td>0.00329164</td>\n",
       "      <td>0</td>\n",
       "      <td>-1</td>\n",
       "      <td>0.0146341</td>\n",
       "      <td>0</td>\n",
       "      <td>0</td>\n",
       "      <td>0</td>\n",
       "      <td>0.00172414</td>\n",
       "      <td>-1</td>\n",
       "      <td>0.0384615</td>\n",
       "      <td>0.00264085</td>\n",
       "      <td>-1</td>\n",
       "      <td>-1</td>\n",
       "      <td>0</td>\n",
       "      <td>-1</td>\n",
       "      <td>0</td>\n",
       "      <td>0</td>\n",
       "      <td>0.0147059</td>\n",
       "    </tr>\n",
       "    <tr>\n",
       "      <th>HPI</th>\n",
       "      <td>0</td>\n",
       "      <td>0</td>\n",
       "      <td>0.16129</td>\n",
       "      <td>0</td>\n",
       "      <td>-1</td>\n",
       "      <td>0.6</td>\n",
       "      <td>0</td>\n",
       "      <td>0</td>\n",
       "      <td>0</td>\n",
       "      <td>0.0689655</td>\n",
       "      <td>-1</td>\n",
       "      <td>0.5</td>\n",
       "      <td>0.1875</td>\n",
       "      <td>-1</td>\n",
       "      <td>-1</td>\n",
       "      <td>0</td>\n",
       "      <td>-1</td>\n",
       "      <td>0</td>\n",
       "      <td>0</td>\n",
       "      <td>0.25</td>\n",
       "    </tr>\n",
       "    <tr>\n",
       "      <th>HDI</th>\n",
       "      <td>0</td>\n",
       "      <td>0</td>\n",
       "      <td>0.102041</td>\n",
       "      <td>0</td>\n",
       "      <td>-1</td>\n",
       "      <td>0.0731707</td>\n",
       "      <td>0</td>\n",
       "      <td>0</td>\n",
       "      <td>0</td>\n",
       "      <td>0.05</td>\n",
       "      <td>-1</td>\n",
       "      <td>0.153846</td>\n",
       "      <td>0.0422535</td>\n",
       "      <td>-1</td>\n",
       "      <td>-1</td>\n",
       "      <td>0</td>\n",
       "      <td>-1</td>\n",
       "      <td>0</td>\n",
       "      <td>0</td>\n",
       "      <td>0.0588235</td>\n",
       "    </tr>\n",
       "    <tr>\n",
       "      <th>Adamic_Adar</th>\n",
       "      <td>0</td>\n",
       "      <td>0</td>\n",
       "      <td>1.27567</td>\n",
       "      <td>0</td>\n",
       "      <td>0</td>\n",
       "      <td>0.933015</td>\n",
       "      <td>0</td>\n",
       "      <td>0</td>\n",
       "      <td>0</td>\n",
       "      <td>0.657079</td>\n",
       "      <td>0</td>\n",
       "      <td>0.834043</td>\n",
       "      <td>0.884873</td>\n",
       "      <td>0</td>\n",
       "      <td>0</td>\n",
       "      <td>0</td>\n",
       "      <td>0</td>\n",
       "      <td>0</td>\n",
       "      <td>0</td>\n",
       "      <td>0.378923</td>\n",
       "    </tr>\n",
       "    <tr>\n",
       "      <th>ResourceAllocation</th>\n",
       "      <td>0</td>\n",
       "      <td>0</td>\n",
       "      <td>0.106351</td>\n",
       "      <td>0</td>\n",
       "      <td>0</td>\n",
       "      <td>0.12125</td>\n",
       "      <td>0</td>\n",
       "      <td>0</td>\n",
       "      <td>0</td>\n",
       "      <td>0.111236</td>\n",
       "      <td>0</td>\n",
       "      <td>0.18254</td>\n",
       "      <td>0.103973</td>\n",
       "      <td>0</td>\n",
       "      <td>0</td>\n",
       "      <td>0</td>\n",
       "      <td>0</td>\n",
       "      <td>0</td>\n",
       "      <td>0</td>\n",
       "      <td>0.0714286</td>\n",
       "    </tr>\n",
       "    <tr>\n",
       "      <th>PrefAttach</th>\n",
       "      <td>161</td>\n",
       "      <td>9</td>\n",
       "      <td>1519</td>\n",
       "      <td>52</td>\n",
       "      <td>0</td>\n",
       "      <td>205</td>\n",
       "      <td>31</td>\n",
       "      <td>280</td>\n",
       "      <td>817</td>\n",
       "      <td>1160</td>\n",
       "      <td>0</td>\n",
       "      <td>52</td>\n",
       "      <td>1136</td>\n",
       "      <td>0</td>\n",
       "      <td>0</td>\n",
       "      <td>33</td>\n",
       "      <td>0</td>\n",
       "      <td>84</td>\n",
       "      <td>24</td>\n",
       "      <td>68</td>\n",
       "    </tr>\n",
       "  </tbody>\n",
       "</table>\n",
       "</div>"
      ],
      "text/plain": [
       "                      0     1           2     3     4          5     6     7   \\\n",
       "i                   7902  7269         397   553  9527       1928  7180  3295   \n",
       "j                   5178  7408        1352  5782  1217       5564   107   484   \n",
       "y                      1     1           1     1     0          1     0     1   \n",
       "i_Degree              23     9          31    13     0         41     1    14   \n",
       "j_Degree               7     1          49     4    16          5    31    20   \n",
       "GraphDist              1     1           1     3    -1          1     4     1   \n",
       "CommonN                0     0           5     0     0          3     0     0   \n",
       "Jaccard                0     0   0.0666667     0    -1  0.0697674     0     0   \n",
       "Sorensen               0     0       0.125     0    -1   0.130435     0     0   \n",
       "LHNI                   0     0  0.00329164     0    -1  0.0146341     0     0   \n",
       "HPI                    0     0     0.16129     0    -1        0.6     0     0   \n",
       "HDI                    0     0    0.102041     0    -1  0.0731707     0     0   \n",
       "Adamic_Adar            0     0     1.27567     0     0   0.933015     0     0   \n",
       "ResourceAllocation     0     0    0.106351     0     0    0.12125     0     0   \n",
       "PrefAttach           161     9        1519    52     0        205    31   280   \n",
       "\n",
       "                      8           9      10         11          12    13  \\\n",
       "i                   4274        1070  11544       3404        5508  7183   \n",
       "j                    190         148  10985       3875         258  9383   \n",
       "y                      1           1      0          1           1     0   \n",
       "i_Degree              19          29      0         13          16     8   \n",
       "j_Degree              43          40      1          4          71     0   \n",
       "GraphDist              1           1     -1          2           1    -1   \n",
       "CommonN                0           2      0          2           3     0   \n",
       "Jaccard                0   0.0298507     -1   0.133333   0.0357143    -1   \n",
       "Sorensen               0    0.057971     -1   0.235294   0.0689655    -1   \n",
       "LHNI                   0  0.00172414     -1  0.0384615  0.00264085    -1   \n",
       "HPI                    0   0.0689655     -1        0.5      0.1875    -1   \n",
       "HDI                    0        0.05     -1   0.153846   0.0422535    -1   \n",
       "Adamic_Adar            0    0.657079      0   0.834043    0.884873     0   \n",
       "ResourceAllocation     0    0.111236      0    0.18254    0.103973     0   \n",
       "PrefAttach           817        1160      0         52        1136     0   \n",
       "\n",
       "                      14    15    16    17    18         19  \n",
       "i                   3519  8849   274  1179  1171       4481  \n",
       "j                   8951  5794  5417  1864  2948       7648  \n",
       "y                      0     1     0     0     0          1  \n",
       "i_Degree               6    11     2     7     8         17  \n",
       "j_Degree               0     3     0    12     3          4  \n",
       "GraphDist             -1     1    -1     4     3          1  \n",
       "CommonN                0     0     0     0     0          1  \n",
       "Jaccard               -1     0    -1     0     0       0.05  \n",
       "Sorensen              -1     0    -1     0     0  0.0952381  \n",
       "LHNI                  -1     0    -1     0     0  0.0147059  \n",
       "HPI                   -1     0    -1     0     0       0.25  \n",
       "HDI                   -1     0    -1     0     0  0.0588235  \n",
       "Adamic_Adar            0     0     0     0     0   0.378923  \n",
       "ResourceAllocation     0     0     0     0     0  0.0714286  \n",
       "PrefAttach             0    33     0    84    24         68  "
      ]
     },
     "execution_count": 20,
     "metadata": {},
     "output_type": "execute_result"
    }
   ],
   "source": [
    "df.head(20).T"
   ]
  },
  {
   "cell_type": "code",
   "execution_count": 21,
   "metadata": {
    "collapsed": true
   },
   "outputs": [],
   "source": [
    "y = df['y']\n",
    "df = df.drop(['y','i','j'], axis=1)"
   ]
  },
  {
   "cell_type": "code",
   "execution_count": 22,
   "metadata": {
    "collapsed": false
   },
   "outputs": [],
   "source": [
    "from sklearn.ensemble import RandomForestClassifier\n",
    "from sklearn.metrics import log_loss\n",
    "from sklearn.grid_search import GridSearchCV\n",
    "from sklearn.grid_search import RandomizedSearchCV\n",
    "\n",
    "from sklearn.learning_curve import validation_curve\n",
    "from sklearn.learning_curve import learning_curve\n",
    "\n",
    "from sklearn.metrics import accuracy_score\n",
    "from sklearn.metrics import roc_auc_score\n",
    "from sklearn.metrics import f1_score"
   ]
  },
  {
   "cell_type": "code",
   "execution_count": 23,
   "metadata": {
    "collapsed": true
   },
   "outputs": [],
   "source": [
    "X_train, X_test, y_train, y_test = train_test_split(df, y, test_size=0.33, random_state=42)"
   ]
  },
  {
   "cell_type": "code",
   "execution_count": 24,
   "metadata": {
    "collapsed": false
   },
   "outputs": [
    {
     "data": {
      "text/plain": [
       "<matplotlib.legend.Legend at 0x23aa5400>"
      ]
     },
     "execution_count": 24,
     "metadata": {},
     "output_type": "execute_result"
    },
    {
     "data": {
      "image/png": "[encoded data removed]",
      "text/plain": [
       "<matplotlib.figure.Figure at 0x23ac8cc0>"
      ]
     },
     "metadata": {},
     "output_type": "display_data"
    }
   ],
   "source": [
    "def plot_with_err(x, data, **kwargs):\n",
    "    mu, std = data.mean(1), data.std(1)\n",
    "    lines = plt.plot(x, mu, '-', **kwargs)\n",
    "    plt.fill_between(x, mu - std, mu + std, edgecolor='none',\n",
    "                     facecolor=lines[0].get_color(), alpha=0.2)\n",
    "#////////////////////////////////////////////////////////////////////////////////////////////////    \n",
    "train_sizes = np.linspace(0.05, 1, 20)\n",
    "N_train, val_train, val_test = learning_curve(RandomForestClassifier(max_depth=7,\\\n",
    "                                                    min_samples_leaf=8,\\\n",
    "                                                    n_estimators = 10,\\\n",
    "                                                    random_state=555),\\\n",
    "                                                    df, y, train_sizes, cv=5,\\\n",
    "                                                    scoring='roc_auc')\n",
    "#////////////////////////////////////////////////////////////////////////////////////////////////    \n",
    "plt.figure(figsize=(15, 6))\n",
    "plot_with_err(N_train, val_train, label='training scores')\n",
    "plot_with_err(N_train, val_test, label='validation scores')\n",
    "plt.xlabel('Training Set Size'); plt.ylabel('ROC AUC')\n",
    "plt.legend()"
   ]
  },
  {
   "cell_type": "code",
   "execution_count": 25,
   "metadata": {
    "collapsed": false
   },
   "outputs": [
    {
     "name": "stdout",
     "output_type": "stream",
     "text": [
      " Acuuracy: 0.957814330975 ROC: 0.990436217358 f1: 0.956865181504\n",
      "                    Importance\n",
      "GraphDist             0.408083\n",
      "i_Degree              0.239815\n",
      "Adamic_Adar           0.108202\n",
      "LHNI                  0.048037\n",
      "CommonN               0.043817\n",
      "PrefAttach            0.039084\n",
      "ResourceAllocation    0.030171\n",
      "HDI                   0.029922\n",
      "HPI                   0.022855\n",
      "Sorensen              0.020724\n",
      "j_Degree              0.008072\n",
      "Jaccard               0.001217\n"
     ]
    }
   ],
   "source": [
    "clf_params = [{'max_depth': list(range(5,10)), 'min_samples_leaf': list(range(5,10))}]\n",
    "#forest = RandomizedSearchCV(RandomForestClassifier(n_estimators = 10,random_state=555),clf_params,\\\n",
    "#                                                      scoring=\"f1\",cv=5)\n",
    "\n",
    "#forest = GridSearchCV(RandomForestClassifier(n_estimators = 10,random_state=555),clf_params,\\\n",
    "#                                                      scoring=\"f1\",cv=5)\n",
    "\n",
    "forest = RandomForestClassifier(n_estimators = 10,random_state=555, max_depth=7, min_samples_leaf=8)\n",
    "forest.fit(X_train, y_train)\n",
    "#////////////////////////////////////////////////////////////////////////////////////////////////\n",
    "y_pred = forest.predict(X_test)\n",
    "y_probs = forest.predict_proba(X_test)\n",
    "Acc = accuracy_score(y_test, y_pred)\n",
    "ROC = roc_auc_score(y_test, y_probs[:, 1])\n",
    "f1 = f1_score(y_test, y_pred)\n",
    "\n",
    "#scores.append(clf_score)\n",
    "print (' Acuuracy: ' + str(Acc) + ' ROC: ' + str(ROC) + ' f1: ' + str(f1))\n",
    "#////////////////////////////////////////////////////////////////////////////////////////////////\n",
    "print (pd.DataFrame(forest.feature_importances_, columns=['Importance'],\\\n",
    "             index=df.columns).sort_values(by='Importance', ascending=False))\n",
    "#////////////////////////////////////////////////////////////////////////////////////////////////    "
   ]
  },
  {
   "cell_type": "code",
   "execution_count": 26,
   "metadata": {
    "collapsed": false
   },
   "outputs": [
    {
     "data": {
      "text/plain": [
       "y\n",
       "0    11288\n",
       "1      972\n",
       "2    10781\n",
       "dtype: int64"
      ]
     },
     "execution_count": 26,
     "metadata": {},
     "output_type": "execute_result"
    }
   ],
   "source": [
    "r = pd.DataFrame(y_test + y_pred)\n",
    "r.groupby('y').size() #Единицы это количество ошибок"
   ]
  },
  {
   "cell_type": "markdown",
   "metadata": {},
   "source": [
    "Далее проверим ошибку для тех связей которые были удалены до построения признаков"
   ]
  },
  {
   "cell_type": "code",
   "execution_count": 27,
   "metadata": {
    "collapsed": true
   },
   "outputs": [],
   "source": [
    "fitF = forest.fit(df,y)"
   ]
  },
  {
   "cell_type": "code",
   "execution_count": 28,
   "metadata": {
    "collapsed": false
   },
   "outputs": [],
   "source": [
    "check = check.join(pd.Series(fitF.predict(df), name='y_pred'))"
   ]
  },
  {
   "cell_type": "code",
   "execution_count": 57,
   "metadata": {
    "collapsed": false
   },
   "outputs": [
    {
     "data": {
      "text/plain": [
       "0.95110977804439112"
      ]
     },
     "execution_count": 57,
     "metadata": {},
     "output_type": "execute_result"
    }
   ],
   "source": [
    "mask = check.index.isin(removeEdge.index)\n",
    "check = check[mask]\n",
    "f1_score(check['y'],check['y_pred'])"
   ]
  }
 ],
 "metadata": {
  "kernelspec": {
   "display_name": "Python 2",
   "language": "python",
   "name": "python2"
  },
  "language_info": {
   "codemirror_mode": {
    "name": "ipython",
    "version": 2
   },
   "file_extension": ".py",
   "mimetype": "text/x-python",
   "name": "python",
   "nbconvert_exporter": "python",
   "pygments_lexer": "ipython2",
   "version": "2.7.10"
  },
  "widgets": {
   "state": {},
   "version": "1.1.2"
  }
 },
 "nbformat": 4,
 "nbformat_minor": 0
}
