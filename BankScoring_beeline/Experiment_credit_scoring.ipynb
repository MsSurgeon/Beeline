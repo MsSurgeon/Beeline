{
 "cells": [
  {
   "cell_type": "markdown",
   "metadata": {},
   "source": [
    "**[Соревнование](https://inclass.kaggle.com/c/beeline-credit-scoring-competition-2).**\n",
    "\n",
    "Решается задача кредитного скоринга. \n",
    "\n",
    "Признаки клиентов банка:\n",
    "- Age - возраст (вещественный)\n",
    "- Income - месячный доход (вещественный)\n",
    "- BalanceToCreditLimit - отношение баланса на кредитной карте к лимиту по кредиту (вещественный)\n",
    "- DIR - Debt-to-income Ratio (вещественный) Отношение крединых обязтельст к доходу\n",
    "- NumLoans - число заемов и кредитных линий\n",
    "- NumRealEstateLoans - число ипотек и заемов, связанных с недвижимостью (натуральное число)\n",
    "- NumDependents - число членов семьи, которых содержит клиент, исключая самого клиента (натуральное число)\n",
    "- Num30-59Delinquencies - число просрочек выплат по кредиту от 30 до 59 дней (натуральное число)\n",
    "- Num60-89Delinquencies - число просрочек выплат по кредиту от 60 до 89 дней (натуральное число)\n",
    "- Delinquent90 - были ли просрочки выплат по кредиту более 90 дней (бинарный) - имеется только в обучающей выборке\n",
    "\n",
    "*Лимиту по кредиту - максимальный предел предоставляемого кредита."
   ]
  },
  {
   "cell_type": "code",
   "execution_count": 20,
   "metadata": {
    "collapsed": false
   },
   "outputs": [
    {
     "name": "stdout",
     "output_type": "stream",
     "text": [
      "Populating the interactive namespace from numpy and matplotlib\n"
     ]
    },
    {
     "name": "stderr",
     "output_type": "stream",
     "text": [
      "c:\\python27\\lib\\site-packages\\IPython\\core\\magics\\pylab.py:161: UserWarning: pylab import has clobbered these variables: ['axes', 'f', 'fmin']\n",
      "`%matplotlib` prevents importing * from pylab and numpy\n",
      "  \"\\n`%matplotlib` prevents importing * from pylab and numpy\"\n"
     ]
    }
   ],
   "source": [
    "#import warnings\n",
    "#warnings.filterwarnings('ignore')\n",
    "import numpy as np\n",
    "import pandas as pd\n",
    "from sklearn.grid_search import GridSearchCV\n",
    "from sklearn.metrics import roc_auc_score\n",
    "%pylab inline"
   ]
  },
  {
   "cell_type": "markdown",
   "metadata": {},
   "source": [
    "**Загружаем данные.**"
   ]
  },
  {
   "cell_type": "code",
   "execution_count": 235,
   "metadata": {
    "collapsed": false
   },
   "outputs": [],
   "source": [
    "train_df = pd.read_csv('credit_scoring_train.csv', index_col='client_id')\n",
    "test_df = pd.read_csv('credit_scoring_test.csv', index_col='client_id')"
   ]
  },
  {
   "cell_type": "code",
   "execution_count": 231,
   "metadata": {
    "collapsed": true
   },
   "outputs": [],
   "source": [
    "y = train_df['Delinquent90']\n",
    "train_df.drop('Delinquent90', axis=1, inplace=True)"
   ]
  },
  {
   "cell_type": "markdown",
   "metadata": {},
   "source": [
    "**Заменим пропуски медианными значениями.**"
   ]
  },
  {
   "cell_type": "code",
   "execution_count": 236,
   "metadata": {
    "collapsed": true
   },
   "outputs": [],
   "source": [
    "train_df['NumDependents'].fillna(train_df['NumDependents'].median(), inplace=True)\n",
    "train_df['Income'].fillna(train_df['Income'].median(), inplace=True)\n",
    "test_df['NumDependents'].fillna(test_df['NumDependents'].median(), inplace=True)\n",
    "test_df['Income'].fillna(test_df['Income'].median(), inplace=True)"
   ]
  },
  {
   "cell_type": "code",
   "execution_count": 242,
   "metadata": {
    "collapsed": false
   },
   "outputs": [
    {
     "data": {
      "text/html": [
       "<div>\n",
       "<table border=\"1\" class=\"dataframe\">\n",
       "  <thead>\n",
       "    <tr style=\"text-align: right;\">\n",
       "      <th>client_id</th>\n",
       "      <th>0</th>\n",
       "      <th>1</th>\n",
       "      <th>2</th>\n",
       "      <th>3</th>\n",
       "      <th>4</th>\n",
       "      <th>5</th>\n",
       "      <th>6</th>\n",
       "      <th>7</th>\n",
       "      <th>8</th>\n",
       "      <th>9</th>\n",
       "    </tr>\n",
       "  </thead>\n",
       "  <tbody>\n",
       "    <tr>\n",
       "      <th>DIR</th>\n",
       "      <td>0.496289</td>\n",
       "      <td>0.433567</td>\n",
       "      <td>2206.731199</td>\n",
       "      <td>886.132793</td>\n",
       "      <td>0.000000</td>\n",
       "      <td>0.121965</td>\n",
       "      <td>0.461193</td>\n",
       "      <td>2.624982</td>\n",
       "      <td>0.074518</td>\n",
       "      <td>0.266679</td>\n",
       "    </tr>\n",
       "    <tr>\n",
       "      <th>Age</th>\n",
       "      <td>49.100000</td>\n",
       "      <td>48.000000</td>\n",
       "      <td>55.500000</td>\n",
       "      <td>55.300000</td>\n",
       "      <td>52.300000</td>\n",
       "      <td>73.500000</td>\n",
       "      <td>71.300000</td>\n",
       "      <td>46.300000</td>\n",
       "      <td>28.100000</td>\n",
       "      <td>31.300000</td>\n",
       "    </tr>\n",
       "    <tr>\n",
       "      <th>NumLoans</th>\n",
       "      <td>13.000000</td>\n",
       "      <td>9.000000</td>\n",
       "      <td>21.000000</td>\n",
       "      <td>3.000000</td>\n",
       "      <td>1.000000</td>\n",
       "      <td>18.000000</td>\n",
       "      <td>9.000000</td>\n",
       "      <td>6.000000</td>\n",
       "      <td>10.000000</td>\n",
       "      <td>6.000000</td>\n",
       "    </tr>\n",
       "    <tr>\n",
       "      <th>NumRealEstateLoans</th>\n",
       "      <td>0.000000</td>\n",
       "      <td>2.000000</td>\n",
       "      <td>1.000000</td>\n",
       "      <td>0.000000</td>\n",
       "      <td>0.000000</td>\n",
       "      <td>1.000000</td>\n",
       "      <td>0.000000</td>\n",
       "      <td>0.000000</td>\n",
       "      <td>0.000000</td>\n",
       "      <td>0.000000</td>\n",
       "    </tr>\n",
       "    <tr>\n",
       "      <th>NumDependents</th>\n",
       "      <td>0.000000</td>\n",
       "      <td>2.000000</td>\n",
       "      <td>0.000000</td>\n",
       "      <td>0.000000</td>\n",
       "      <td>0.000000</td>\n",
       "      <td>1.000000</td>\n",
       "      <td>0.000000</td>\n",
       "      <td>0.000000</td>\n",
       "      <td>0.000000</td>\n",
       "      <td>0.000000</td>\n",
       "    </tr>\n",
       "    <tr>\n",
       "      <th>Num30-59Delinquencies</th>\n",
       "      <td>2.000000</td>\n",
       "      <td>1.000000</td>\n",
       "      <td>1.000000</td>\n",
       "      <td>0.000000</td>\n",
       "      <td>0.000000</td>\n",
       "      <td>0.000000</td>\n",
       "      <td>0.000000</td>\n",
       "      <td>0.000000</td>\n",
       "      <td>0.000000</td>\n",
       "      <td>0.000000</td>\n",
       "    </tr>\n",
       "    <tr>\n",
       "      <th>Num60-89Delinquencies</th>\n",
       "      <td>0.000000</td>\n",
       "      <td>0.000000</td>\n",
       "      <td>0.000000</td>\n",
       "      <td>0.000000</td>\n",
       "      <td>0.000000</td>\n",
       "      <td>0.000000</td>\n",
       "      <td>0.000000</td>\n",
       "      <td>0.000000</td>\n",
       "      <td>0.000000</td>\n",
       "      <td>0.000000</td>\n",
       "    </tr>\n",
       "    <tr>\n",
       "      <th>Income</th>\n",
       "      <td>5298.360639</td>\n",
       "      <td>6008.056256</td>\n",
       "      <td>5424.552473</td>\n",
       "      <td>5424.552473</td>\n",
       "      <td>2504.613105</td>\n",
       "      <td>15634.752299</td>\n",
       "      <td>3562.767475</td>\n",
       "      <td>2205.386980</td>\n",
       "      <td>5021.722284</td>\n",
       "      <td>4005.890242</td>\n",
       "    </tr>\n",
       "    <tr>\n",
       "      <th>BalanceToCreditLimit</th>\n",
       "      <td>0.387028</td>\n",
       "      <td>0.234679</td>\n",
       "      <td>0.348227</td>\n",
       "      <td>0.971930</td>\n",
       "      <td>1.004350</td>\n",
       "      <td>0.004951</td>\n",
       "      <td>0.039618</td>\n",
       "      <td>0.846364</td>\n",
       "      <td>0.048213</td>\n",
       "      <td>0.366262</td>\n",
       "    </tr>\n",
       "    <tr>\n",
       "      <th>Delinquent90</th>\n",
       "      <td>0.000000</td>\n",
       "      <td>0.000000</td>\n",
       "      <td>0.000000</td>\n",
       "      <td>0.000000</td>\n",
       "      <td>0.000000</td>\n",
       "      <td>0.000000</td>\n",
       "      <td>0.000000</td>\n",
       "      <td>0.000000</td>\n",
       "      <td>0.000000</td>\n",
       "      <td>0.000000</td>\n",
       "    </tr>\n",
       "    <tr>\n",
       "      <th>DIR_binar</th>\n",
       "      <td>1.000000</td>\n",
       "      <td>1.000000</td>\n",
       "      <td>1.000000</td>\n",
       "      <td>1.000000</td>\n",
       "      <td>0.000000</td>\n",
       "      <td>1.000000</td>\n",
       "      <td>1.000000</td>\n",
       "      <td>1.000000</td>\n",
       "      <td>1.000000</td>\n",
       "      <td>1.000000</td>\n",
       "    </tr>\n",
       "    <tr>\n",
       "      <th>ClientRate</th>\n",
       "      <td>4.000000</td>\n",
       "      <td>2.000000</td>\n",
       "      <td>2.000000</td>\n",
       "      <td>0.000000</td>\n",
       "      <td>0.000000</td>\n",
       "      <td>0.000000</td>\n",
       "      <td>0.000000</td>\n",
       "      <td>0.000000</td>\n",
       "      <td>0.000000</td>\n",
       "      <td>0.000000</td>\n",
       "    </tr>\n",
       "  </tbody>\n",
       "</table>\n",
       "</div>"
      ],
      "text/plain": [
       "client_id                        0            1            2            3  \\\n",
       "DIR                       0.496289     0.433567  2206.731199   886.132793   \n",
       "Age                      49.100000    48.000000    55.500000    55.300000   \n",
       "NumLoans                 13.000000     9.000000    21.000000     3.000000   \n",
       "NumRealEstateLoans        0.000000     2.000000     1.000000     0.000000   \n",
       "NumDependents             0.000000     2.000000     0.000000     0.000000   \n",
       "Num30-59Delinquencies     2.000000     1.000000     1.000000     0.000000   \n",
       "Num60-89Delinquencies     0.000000     0.000000     0.000000     0.000000   \n",
       "Income                 5298.360639  6008.056256  5424.552473  5424.552473   \n",
       "BalanceToCreditLimit      0.387028     0.234679     0.348227     0.971930   \n",
       "Delinquent90              0.000000     0.000000     0.000000     0.000000   \n",
       "DIR_binar                 1.000000     1.000000     1.000000     1.000000   \n",
       "ClientRate                4.000000     2.000000     2.000000     0.000000   \n",
       "\n",
       "client_id                        4             5            6            7  \\\n",
       "DIR                       0.000000      0.121965     0.461193     2.624982   \n",
       "Age                      52.300000     73.500000    71.300000    46.300000   \n",
       "NumLoans                  1.000000     18.000000     9.000000     6.000000   \n",
       "NumRealEstateLoans        0.000000      1.000000     0.000000     0.000000   \n",
       "NumDependents             0.000000      1.000000     0.000000     0.000000   \n",
       "Num30-59Delinquencies     0.000000      0.000000     0.000000     0.000000   \n",
       "Num60-89Delinquencies     0.000000      0.000000     0.000000     0.000000   \n",
       "Income                 2504.613105  15634.752299  3562.767475  2205.386980   \n",
       "BalanceToCreditLimit      1.004350      0.004951     0.039618     0.846364   \n",
       "Delinquent90              0.000000      0.000000     0.000000     0.000000   \n",
       "DIR_binar                 0.000000      1.000000     1.000000     1.000000   \n",
       "ClientRate                0.000000      0.000000     0.000000     0.000000   \n",
       "\n",
       "client_id                        8            9  \n",
       "DIR                       0.074518     0.266679  \n",
       "Age                      28.100000    31.300000  \n",
       "NumLoans                 10.000000     6.000000  \n",
       "NumRealEstateLoans        0.000000     0.000000  \n",
       "NumDependents             0.000000     0.000000  \n",
       "Num30-59Delinquencies     0.000000     0.000000  \n",
       "Num60-89Delinquencies     0.000000     0.000000  \n",
       "Income                 5021.722284  4005.890242  \n",
       "BalanceToCreditLimit      0.048213     0.366262  \n",
       "Delinquent90              0.000000     0.000000  \n",
       "DIR_binar                 1.000000     1.000000  \n",
       "ClientRate                0.000000     0.000000  "
      ]
     },
     "execution_count": 242,
     "metadata": {},
     "output_type": "execute_result"
    }
   ],
   "source": [
    "train_df.head(10).T"
   ]
  },
  {
   "cell_type": "code",
   "execution_count": 84,
   "metadata": {
    "collapsed": false
   },
   "outputs": [
    {
     "data": {
      "text/plain": [
       "-0.11419134758200156"
      ]
     },
     "execution_count": 84,
     "metadata": {},
     "output_type": "execute_result"
    }
   ],
   "source": [
    "train_df['Age'].corr(train_df['Delinquent90'])"
   ]
  },
  {
   "cell_type": "code",
   "execution_count": 221,
   "metadata": {
    "collapsed": false
   },
   "outputs": [
    {
     "data": {
      "text/plain": [
       "2090"
      ]
     },
     "execution_count": 221,
     "metadata": {},
     "output_type": "execute_result"
    }
   ],
   "source": [
    "train_df[train_df['DIR']==0]['DIR'].count()"
   ]
  },
  {
   "cell_type": "code",
   "execution_count": 241,
   "metadata": {
    "collapsed": true
   },
   "outputs": [],
   "source": [
    "train_df['ClientRate'] = train_df['Num30-59Delinquencies']+train_df['Num30-59Delinquencies']"
   ]
  },
  {
   "cell_type": "code",
   "execution_count": null,
   "metadata": {
    "collapsed": true
   },
   "outputs": [],
   "source": []
  },
  {
   "cell_type": "code",
   "execution_count": 173,
   "metadata": {
    "collapsed": false
   },
   "outputs": [
    {
     "data": {
      "text/plain": [
       "count     75000.000000\n",
       "mean        353.260293\n",
       "std        2117.237432\n",
       "min           0.000000\n",
       "25%           0.176022\n",
       "50%           0.366848\n",
       "75%           0.862650\n",
       "max      332600.272820\n",
       "Name: DIR, dtype: float64"
      ]
     },
     "execution_count": 173,
     "metadata": {},
     "output_type": "execute_result"
    }
   ],
   "source": [
    "train_df['DIR'].describe()"
   ]
  },
  {
   "cell_type": "code",
   "execution_count": 237,
   "metadata": {
    "collapsed": false
   },
   "outputs": [],
   "source": [
    "train_df['DIR_binar']= train_df['DIR'].apply(lambda x: 1 if x>0 else 0)"
   ]
  },
  {
   "cell_type": "code",
   "execution_count": 240,
   "metadata": {
    "collapsed": false
   },
   "outputs": [
    {
     "data": {
      "text/html": [
       "<div>\n",
       "<table border=\"1\" class=\"dataframe\">\n",
       "  <thead>\n",
       "    <tr style=\"text-align: right;\">\n",
       "      <th></th>\n",
       "      <th>DIR</th>\n",
       "      <th>Age</th>\n",
       "      <th>NumLoans</th>\n",
       "      <th>NumRealEstateLoans</th>\n",
       "      <th>NumDependents</th>\n",
       "      <th>Num30-59Delinquencies</th>\n",
       "      <th>Num60-89Delinquencies</th>\n",
       "      <th>Income</th>\n",
       "      <th>BalanceToCreditLimit</th>\n",
       "      <th>Delinquent90</th>\n",
       "    </tr>\n",
       "    <tr>\n",
       "      <th>DIR_binar</th>\n",
       "      <th></th>\n",
       "      <th></th>\n",
       "      <th></th>\n",
       "      <th></th>\n",
       "      <th></th>\n",
       "      <th></th>\n",
       "      <th></th>\n",
       "      <th></th>\n",
       "      <th></th>\n",
       "      <th></th>\n",
       "    </tr>\n",
       "  </thead>\n",
       "  <tbody>\n",
       "    <tr>\n",
       "      <th>0</th>\n",
       "      <td>0.000000e+00</td>\n",
       "      <td>1.092983e+05</td>\n",
       "      <td>4649</td>\n",
       "      <td>0</td>\n",
       "      <td>595.0</td>\n",
       "      <td>10596</td>\n",
       "      <td>10544</td>\n",
       "      <td>1.006902e+07</td>\n",
       "      <td>946.542985</td>\n",
       "      <td>176</td>\n",
       "    </tr>\n",
       "    <tr>\n",
       "      <th>1</th>\n",
       "      <td>2.649452e+07</td>\n",
       "      <td>3.835372e+06</td>\n",
       "      <td>629083</td>\n",
       "      <td>76252</td>\n",
       "      <td>54654.0</td>\n",
       "      <td>21528</td>\n",
       "      <td>8056</td>\n",
       "      <td>4.759041e+08</td>\n",
       "      <td>469768.190824</td>\n",
       "      <td>4837</td>\n",
       "    </tr>\n",
       "  </tbody>\n",
       "</table>\n",
       "</div>"
      ],
      "text/plain": [
       "                    DIR           Age  NumLoans  NumRealEstateLoans  \\\n",
       "DIR_binar                                                             \n",
       "0          0.000000e+00  1.092983e+05      4649                   0   \n",
       "1          2.649452e+07  3.835372e+06    629083               76252   \n",
       "\n",
       "           NumDependents  Num30-59Delinquencies  Num60-89Delinquencies  \\\n",
       "DIR_binar                                                                \n",
       "0                  595.0                  10596                  10544   \n",
       "1                54654.0                  21528                   8056   \n",
       "\n",
       "                 Income  BalanceToCreditLimit  Delinquent90  \n",
       "DIR_binar                                                    \n",
       "0          1.006902e+07            946.542985           176  \n",
       "1          4.759041e+08         469768.190824          4837  "
      ]
     },
     "execution_count": 240,
     "metadata": {},
     "output_type": "execute_result"
    }
   ],
   "source": [
    "train_df.groupby('DIR_binar').sum()"
   ]
  },
  {
   "cell_type": "code",
   "execution_count": 243,
   "metadata": {
    "collapsed": false
   },
   "outputs": [
    {
     "name": "stderr",
     "output_type": "stream",
     "text": [
      "c:\\python27\\lib\\site-packages\\ipykernel\\__main__.py:2: SettingWithCopyWarning: \n",
      "A value is trying to be set on a copy of a slice from a DataFrame.\n",
      "Try using .loc[row_indexer,col_indexer] = value instead\n",
      "\n",
      "See the caveats in the documentation: http://pandas.pydata.org/pandas-docs/stable/indexing.html#indexing-view-versus-copy\n",
      "  from ipykernel import kernelapp as app\n"
     ]
    }
   ],
   "source": [
    "\n",
    "train_df[(train_df['NumLoans']>0) & (train_df['DIR'] ==0)]['DIR'] = train_df['DIR'].mean()\n"
   ]
  },
  {
   "cell_type": "code",
   "execution_count": 86,
   "metadata": {
    "collapsed": true
   },
   "outputs": [],
   "source": [
    "train_df['Num30-59Delinquencies']=train_df['Num30-59Delinquencies'].\\\n",
    "                            apply(lambda x: 0 if x > 20 else x)"
   ]
  },
  {
   "cell_type": "code",
   "execution_count": 91,
   "metadata": {
    "collapsed": false
   },
   "outputs": [
    {
     "data": {
      "text/plain": [
       "<matplotlib.axes._subplots.AxesSubplot at 0x2cb50b70>"
      ]
     },
     "execution_count": 91,
     "metadata": {},
     "output_type": "execute_result"
    },
    {
     "data": {
      "image/png": "[encoded data removed]",
      "text/plain": [
       "<matplotlib.figure.Figure at 0x2c965940>"
      ]
     },
     "metadata": {},
     "output_type": "display_data"
    }
   ],
   "source": [
    "train_df['NumLoans'].hist()"
   ]
  },
  {
   "cell_type": "code",
   "execution_count": 92,
   "metadata": {
    "collapsed": false
   },
   "outputs": [
    {
     "data": {
      "text/plain": [
       "<matplotlib.axes._subplots.AxesSubplot at 0x2bc0c160>"
      ]
     },
     "execution_count": 92,
     "metadata": {},
     "output_type": "execute_result"
    },
    {
     "data": {
      "image/png": "[encoded data removed]",
      "text/plain": [
       "<matplotlib.figure.Figure at 0x2bc0cac8>"
      ]
     },
     "metadata": {},
     "output_type": "display_data"
    }
   ],
   "source": [
    "(train_df['NumLoans'] - train_df['NumRealEstateLoans']).hist()"
   ]
  },
  {
   "cell_type": "code",
   "execution_count": null,
   "metadata": {
    "collapsed": true
   },
   "outputs": [],
   "source": []
  },
  {
   "cell_type": "markdown",
   "metadata": {},
   "source": [
    "**Запиcь прогноз в файл.**"
   ]
  },
  {
   "cell_type": "code",
   "execution_count": 6,
   "metadata": {
    "collapsed": false
   },
   "outputs": [],
   "source": [
    "def write_to_submission_file(predicted_labels, out_file,\n",
    "                             target='Delinquent90', index_label=\"client_id\"):\n",
    "    # turn predictions into data frame and save as csv file\n",
    "    predicted_df = pd.DataFrame(predicted_labels,\n",
    "                                index = np.arange(75000, \n",
    "                                                  predicted_labels.shape[0] + 75000),\n",
    "                                columns=[target])\n",
    "    predicted_df.to_csv(out_file, index_label=index_label)"
   ]
  },
  {
   "cell_type": "markdown",
   "metadata": {},
   "source": [
    "### Случайный лес с подбором параметров"
   ]
  },
  {
   "cell_type": "code",
   "execution_count": 7,
   "metadata": {
    "collapsed": false
   },
   "outputs": [],
   "source": [
    "from sklearn.neighbors import KNeighborsClassifier\n",
    "from sklearn.svm import SVC\n",
    "from sklearn.tree import DecisionTreeClassifier\n",
    "from sklearn.ensemble import RandomForestClassifier\n",
    "\n",
    "from sklearn.preprocessing import StandardScaler\n",
    "from sklearn.preprocessing import LabelEncoder"
   ]
  },
  {
   "cell_type": "code",
   "execution_count": 10,
   "metadata": {
    "collapsed": false
   },
   "outputs": [],
   "source": [
    "forest_param = [{'n_estimators': list(range(10,11)),\\\n",
    "                 'max_depth': list(range(3,10)),\\\n",
    "                 'min_samples_leaf': list(range(3,8))}]\n",
    "forest = GridSearchCV(RandomForestClassifier(), forest_param, cv=5, scoring='roc_auc')\n",
    "forest.fit(train_df, y)\n",
    "forest_prob = forest.predict_proba(test_df)[:, 1]"
   ]
  },
  {
   "cell_type": "code",
   "execution_count": 11,
   "metadata": {
    "collapsed": false
   },
   "outputs": [
    {
     "data": {
      "text/plain": [
       "0.86203885814125059"
      ]
     },
     "execution_count": 11,
     "metadata": {},
     "output_type": "execute_result"
    }
   ],
   "source": [
    "forest.score(train_df,y)"
   ]
  },
  {
   "cell_type": "code",
   "execution_count": 12,
   "metadata": {
    "collapsed": false
   },
   "outputs": [
    {
     "data": {
      "text/plain": [
       "{'max_depth': 8, 'min_samples_leaf': 3, 'n_estimators': 10}"
      ]
     },
     "execution_count": 12,
     "metadata": {},
     "output_type": "execute_result"
    }
   ],
   "source": [
    "forest.best_params_"
   ]
  },
  {
   "cell_type": "code",
   "execution_count": 17,
   "metadata": {
    "collapsed": false
   },
   "outputs": [
    {
     "data": {
      "text/plain": [
       "RandomForestClassifier(bootstrap=True, class_weight=None, criterion='gini',\n",
       "            max_depth=8, max_features='auto', max_leaf_nodes=None,\n",
       "            min_samples_leaf=3, min_samples_split=2,\n",
       "            min_weight_fraction_leaf=0.0, n_estimators=10, n_jobs=1,\n",
       "            oob_score=False, random_state=None, verbose=0,\n",
       "            warm_start=False)"
      ]
     },
     "execution_count": 17,
     "metadata": {},
     "output_type": "execute_result"
    }
   ],
   "source": [
    "fin_forest = RandomForestClassifier(max_depth= 8, min_samples_leaf= 3, n_estimators = 10)\n",
    "fin_forest.fit(train_df,y)"
   ]
  },
  {
   "cell_type": "code",
   "execution_count": 44,
   "metadata": {
    "collapsed": false
   },
   "outputs": [
    {
     "data": {
      "text/html": [
       "<div>\n",
       "<table border=\"1\" class=\"dataframe\">\n",
       "  <thead>\n",
       "    <tr style=\"text-align: right;\">\n",
       "      <th></th>\n",
       "      <th>Importance</th>\n",
       "    </tr>\n",
       "  </thead>\n",
       "  <tbody>\n",
       "    <tr>\n",
       "      <th>BalanceToCreditLimit</th>\n",
       "      <td>0.306165</td>\n",
       "    </tr>\n",
       "    <tr>\n",
       "      <th>Num30-59Delinquencies</th>\n",
       "      <td>0.239954</td>\n",
       "    </tr>\n",
       "    <tr>\n",
       "      <th>Num60-89Delinquencies</th>\n",
       "      <td>0.216132</td>\n",
       "    </tr>\n",
       "    <tr>\n",
       "      <th>Age</th>\n",
       "      <td>0.063068</td>\n",
       "    </tr>\n",
       "    <tr>\n",
       "      <th>NumLoans</th>\n",
       "      <td>0.051821</td>\n",
       "    </tr>\n",
       "    <tr>\n",
       "      <th>DIR</th>\n",
       "      <td>0.048699</td>\n",
       "    </tr>\n",
       "    <tr>\n",
       "      <th>Income</th>\n",
       "      <td>0.042148</td>\n",
       "    </tr>\n",
       "    <tr>\n",
       "      <th>NumRealEstateLoans</th>\n",
       "      <td>0.019457</td>\n",
       "    </tr>\n",
       "    <tr>\n",
       "      <th>NumDependents</th>\n",
       "      <td>0.012556</td>\n",
       "    </tr>\n",
       "  </tbody>\n",
       "</table>\n",
       "</div>"
      ],
      "text/plain": [
       "                       Importance\n",
       "BalanceToCreditLimit     0.306165\n",
       "Num30-59Delinquencies    0.239954\n",
       "Num60-89Delinquencies    0.216132\n",
       "Age                      0.063068\n",
       "NumLoans                 0.051821\n",
       "DIR                      0.048699\n",
       "Income                   0.042148\n",
       "NumRealEstateLoans       0.019457\n",
       "NumDependents            0.012556"
      ]
     },
     "execution_count": 44,
     "metadata": {},
     "output_type": "execute_result"
    }
   ],
   "source": [
    "pd.DataFrame(fin_forest.feature_importances_, columns=['Importance'],\n",
    "             index=train_df.columns).sort_values(by='Importance', ascending=False)"
   ]
  },
  {
   "cell_type": "code",
   "execution_count": 14,
   "metadata": {
    "collapsed": true
   },
   "outputs": [],
   "source": [
    "write_to_submission_file(forest_prob, 'credit_scoring_final_forest.csv')"
   ]
  },
  {
   "cell_type": "markdown",
   "metadata": {},
   "source": [
    "## Градиентный бустинк с подбором пораметров"
   ]
  },
  {
   "cell_type": "code",
   "execution_count": 24,
   "metadata": {
    "collapsed": false
   },
   "outputs": [],
   "source": [
    "import xgboost as xgb\n",
    "\n",
    "from hyperopt import hp\n",
    "from hyperopt import fmin, tpe, hp, STATUS_OK, Trials\n",
    "\n",
    "from sklearn.cross_validation import KFold, train_test_split,cross_val_score\n",
    "from sklearn.metrics import log_loss"
   ]
  },
  {
   "cell_type": "code",
   "execution_count": 25,
   "metadata": {
    "collapsed": false
   },
   "outputs": [],
   "source": [
    "def score(params):\n",
    "    from sklearn.metrics import log_loss\n",
    "    print(\"Training with params:\")\n",
    "    print(params)\n",
    "    num_round = int(params['n_estimators'])\n",
    "    del params['n_estimators']\n",
    "    dtrain = xgb.DMatrix(X_train, label=y_train)\n",
    "    dvalid = xgb.DMatrix(X_test, label=y_test)\n",
    "    # watchlist = [(dvalid, 'eval'), (dtrain, 'train')]\n",
    "    model = xgb.train(params, dtrain, num_round)\n",
    "    predictions = model.predict(dvalid).reshape((X_test.shape[0], 2))\n",
    "    score = log_loss(y_test, predictions)\n",
    "    print(\"\\tScore {0}\\n\\n\".format(score))\n",
    "    return {'loss': score, 'status': STATUS_OK}\n",
    "\n",
    "\n",
    "def optimize(trials):\n",
    "    space = {\n",
    "             'n_estimators' : 150,\n",
    "             'eta' : hp.quniform('eta', 0.025, 0.5, 0.025),\n",
    "             'max_depth' : hp.choice('max_depth', range(1,20)),\n",
    "             'min_child_weight' : hp.quniform('min_child_weight', 1, 6, 1),\n",
    "             'subsample' : hp.quniform('subsample', 0.5, 1, 0.25),\n",
    "             'gamma' : 0,\n",
    "             'colsample_bytree' : hp.quniform('colsample_bytree', 0.5, 1, 0.25),\n",
    "             'num_class' : 2,\n",
    "             'eval_metric': 'merror',\n",
    "             'objective': 'multi:softprob',\n",
    "             'nthread' : 4,\n",
    "             'silent' : 1\n",
    "             }\n",
    "    best = fmin(score, space, algo=tpe.suggest, trials=trials, max_evals=50)\n",
    "\n",
    "    print(best)\n"
   ]
  },
  {
   "cell_type": "code",
   "execution_count": 26,
   "metadata": {
    "collapsed": false
   },
   "outputs": [
    {
     "name": "stdout",
     "output_type": "stream",
     "text": [
      "Training with params:\n",
      "{'colsample_bytree': 0.75, 'silent': 1, 'eval_metric': 'merror', 'nthread': 4, 'min_child_weight': 2.0, 'n_estimators': 150, 'subsample': 0.75, 'eta': 0.275, 'objective': 'multi:softprob', 'num_class': 2, 'max_depth': 3, 'gamma': 0}\n",
      "\tScore 0.183071568043\n",
      "\n",
      "\n",
      "Training with params:\n",
      "{'colsample_bytree': 0.75, 'silent': 1, 'eval_metric': 'merror', 'nthread': 4, 'min_child_weight': 5.0, 'n_estimators': 150, 'subsample': 0.5, 'eta': 0.30000000000000004, 'objective': 'multi:softprob', 'num_class': 2, 'max_depth': 3, 'gamma': 0}\n",
      "\tScore 0.183414130268\n",
      "\n",
      "\n",
      "Training with params:\n",
      "{'colsample_bytree': 0.5, 'silent': 1, 'eval_metric': 'merror', 'nthread': 4, 'min_child_weight': 1.0, 'n_estimators': 150, 'subsample': 0.75, 'eta': 0.1, 'objective': 'multi:softprob', 'num_class': 2, 'max_depth': 4, 'gamma': 0}\n",
      "\tScore 0.181526414134\n",
      "\n",
      "\n",
      "Training with params:\n",
      "{'colsample_bytree': 0.75, 'silent': 1, 'eval_metric': 'merror', 'nthread': 4, 'min_child_weight': 2.0, 'n_estimators': 150, 'subsample': 0.5, 'eta': 0.1, 'objective': 'multi:softprob', 'num_class': 2, 'max_depth': 4, 'gamma': 0}\n",
      "\tScore 0.181509261896\n",
      "\n",
      "\n",
      "Training with params:\n",
      "{'colsample_bytree': 1.0, 'silent': 1, 'eval_metric': 'merror', 'nthread': 4, 'min_child_weight': 1.0, 'n_estimators': 150, 'subsample': 0.75, 'eta': 0.35000000000000003, 'objective': 'multi:softprob', 'num_class': 2, 'max_depth': 5, 'gamma': 0}\n",
      "\tScore 0.19064074878\n",
      "\n",
      "\n",
      "Training with params:\n",
      "{'colsample_bytree': 0.5, 'silent': 1, 'eval_metric': 'merror', 'nthread': 4, 'min_child_weight': 2.0, 'n_estimators': 150, 'subsample': 1.0, 'eta': 0.05, 'objective': 'multi:softprob', 'num_class': 2, 'max_depth': 11, 'gamma': 0}\n",
      "\tScore 0.184434134874\n",
      "\n",
      "\n",
      "Training with params:\n",
      "{'colsample_bytree': 0.75, 'silent': 1, 'eval_metric': 'merror', 'nthread': 4, 'min_child_weight': 2.0, 'n_estimators': 150, 'subsample': 0.75, 'eta': 0.47500000000000003, 'objective': 'multi:softprob', 'num_class': 2, 'max_depth': 1, 'gamma': 0}\n",
      "\tScore 0.184145558463\n",
      "\n",
      "\n",
      "Training with params:\n",
      "{'colsample_bytree': 1.0, 'silent': 1, 'eval_metric': 'merror', 'nthread': 4, 'min_child_weight': 3.0, 'n_estimators': 150, 'subsample': 0.5, 'eta': 0.45, 'objective': 'multi:softprob', 'num_class': 2, 'max_depth': 11, 'gamma': 0}\n",
      "\tScore 0.262024356985\n",
      "\n",
      "\n",
      "Training with params:\n",
      "{'colsample_bytree': 0.75, 'silent': 1, 'eval_metric': 'merror', 'nthread': 4, 'min_child_weight': 6.0, 'n_estimators': 150, 'subsample': 0.75, 'eta': 0.30000000000000004, 'objective': 'multi:softprob', 'num_class': 2, 'max_depth': 10, 'gamma': 0}\n",
      "\tScore 0.205987340074\n",
      "\n",
      "\n",
      "Training with params:\n",
      "{'colsample_bytree': 0.75, 'silent': 1, 'eval_metric': 'merror', 'nthread': 4, 'min_child_weight': 3.0, 'n_estimators': 150, 'subsample': 1.0, 'eta': 0.30000000000000004, 'objective': 'multi:softprob', 'num_class': 2, 'max_depth': 11, 'gamma': 0}\n",
      "\tScore 0.205142413263\n",
      "\n",
      "\n",
      "Training with params:\n",
      "{'colsample_bytree': 0.75, 'silent': 1, 'eval_metric': 'merror', 'nthread': 4, 'min_child_weight': 2.0, 'n_estimators': 150, 'subsample': 0.75, 'eta': 0.1, 'objective': 'multi:softprob', 'num_class': 2, 'max_depth': 13, 'gamma': 0}\n",
      "\tScore 0.193644303372\n",
      "\n",
      "\n",
      "Training with params:\n",
      "{'colsample_bytree': 0.5, 'silent': 1, 'eval_metric': 'merror', 'nthread': 4, 'min_child_weight': 3.0, 'n_estimators': 150, 'subsample': 1.0, 'eta': 0.375, 'objective': 'multi:softprob', 'num_class': 2, 'max_depth': 19, 'gamma': 0}\n",
      "\tScore 0.245005046568\n",
      "\n",
      "\n",
      "Training with params:\n",
      "{'colsample_bytree': 1.0, 'silent': 1, 'eval_metric': 'merror', 'nthread': 4, 'min_child_weight': 3.0, 'n_estimators': 150, 'subsample': 0.75, 'eta': 0.42500000000000004, 'objective': 'multi:softprob', 'num_class': 2, 'max_depth': 6, 'gamma': 0}\n",
      "\tScore 0.201565041216\n",
      "\n",
      "\n",
      "Training with params:\n",
      "{'colsample_bytree': 0.5, 'silent': 1, 'eval_metric': 'merror', 'nthread': 4, 'min_child_weight': 2.0, 'n_estimators': 150, 'subsample': 0.5, 'eta': 0.1, 'objective': 'multi:softprob', 'num_class': 2, 'max_depth': 10, 'gamma': 0}\n",
      "\tScore 0.187185825949\n",
      "\n",
      "\n",
      "Training with params:\n",
      "{'colsample_bytree': 1.0, 'silent': 1, 'eval_metric': 'merror', 'nthread': 4, 'min_child_weight': 1.0, 'n_estimators': 150, 'subsample': 1.0, 'eta': 0.2, 'objective': 'multi:softprob', 'num_class': 2, 'max_depth': 17, 'gamma': 0}\n",
      "\tScore 0.242245791575\n",
      "\n",
      "\n",
      "Training with params:\n",
      "{'colsample_bytree': 1.0, 'silent': 1, 'eval_metric': 'merror', 'nthread': 4, 'min_child_weight': 5.0, 'n_estimators': 150, 'subsample': 0.75, 'eta': 0.30000000000000004, 'objective': 'multi:softprob', 'num_class': 2, 'max_depth': 6, 'gamma': 0}\n",
      "\tScore 0.192659801997\n",
      "\n",
      "\n",
      "Training with params:\n",
      "{'colsample_bytree': 0.75, 'silent': 1, 'eval_metric': 'merror', 'nthread': 4, 'min_child_weight': 5.0, 'n_estimators': 150, 'subsample': 0.75, 'eta': 0.2, 'objective': 'multi:softprob', 'num_class': 2, 'max_depth': 2, 'gamma': 0}\n",
      "\tScore 0.182211309128\n",
      "\n",
      "\n",
      "Training with params:\n",
      "{'colsample_bytree': 0.75, 'silent': 1, 'eval_metric': 'merror', 'nthread': 4, 'min_child_weight': 2.0, 'n_estimators': 150, 'subsample': 0.75, 'eta': 0.25, 'objective': 'multi:softprob', 'num_class': 2, 'max_depth': 14, 'gamma': 0}\n",
      "\tScore 0.228171862429\n",
      "\n",
      "\n",
      "Training with params:\n",
      "{'colsample_bytree': 1.0, 'silent': 1, 'eval_metric': 'merror', 'nthread': 4, 'min_child_weight': 4.0, 'n_estimators': 150, 'subsample': 1.0, 'eta': 0.25, 'objective': 'multi:softprob', 'num_class': 2, 'max_depth': 4, 'gamma': 0}\n",
      "\tScore 0.184792605219\n",
      "\n",
      "\n",
      "Training with params:\n",
      "{'colsample_bytree': 0.75, 'silent': 1, 'eval_metric': 'merror', 'nthread': 4, 'min_child_weight': 4.0, 'n_estimators': 150, 'subsample': 1.0, 'eta': 0.4, 'objective': 'multi:softprob', 'num_class': 2, 'max_depth': 13, 'gamma': 0}\n",
      "\tScore 0.221930282886\n",
      "\n",
      "\n",
      "Training with params:\n",
      "{'colsample_bytree': 0.5, 'silent': 1, 'eval_metric': 'merror', 'nthread': 4, 'min_child_weight': 1.0, 'n_estimators': 150, 'subsample': 0.5, 'eta': 0.025, 'objective': 'multi:softprob', 'num_class': 2, 'max_depth': 4, 'gamma': 0}\n",
      "\tScore 0.187484910523\n",
      "\n",
      "\n",
      "Training with params:\n",
      "{'colsample_bytree': 0.5, 'silent': 1, 'eval_metric': 'merror', 'nthread': 4, 'min_child_weight': 1.0, 'n_estimators': 150, 'subsample': 0.5, 'eta': 0.125, 'objective': 'multi:softprob', 'num_class': 2, 'max_depth': 8, 'gamma': 0}\n",
      "\tScore 0.186712918568\n",
      "\n",
      "\n",
      "Training with params:\n",
      "{'colsample_bytree': 0.5, 'silent': 1, 'eval_metric': 'merror', 'nthread': 4, 'min_child_weight': 1.0, 'n_estimators': 150, 'subsample': 0.5, 'eta': 0.15000000000000002, 'objective': 'multi:softprob', 'num_class': 2, 'max_depth': 7, 'gamma': 0}\n",
      "\tScore 0.186449516443\n",
      "\n",
      "\n",
      "Training with params:\n",
      "{'colsample_bytree': 0.5, 'silent': 1, 'eval_metric': 'merror', 'nthread': 4, 'min_child_weight': 1.0, 'n_estimators': 150, 'subsample': 0.5, 'eta': 0.05, 'objective': 'multi:softprob', 'num_class': 2, 'max_depth': 4, 'gamma': 0}\n",
      "\tScore 0.181173151065\n",
      "\n",
      "\n",
      "Training with params:\n",
      "{'colsample_bytree': 0.75, 'silent': 1, 'eval_metric': 'merror', 'nthread': 4, 'min_child_weight': 2.0, 'n_estimators': 150, 'subsample': 0.5, 'eta': 0.05, 'objective': 'multi:softprob', 'num_class': 2, 'max_depth': 18, 'gamma': 0}\n",
      "\tScore 0.18890902021\n",
      "\n",
      "\n",
      "Training with params:\n",
      "{'colsample_bytree': 0.5, 'silent': 1, 'eval_metric': 'merror', 'nthread': 4, 'min_child_weight': 1.0, 'n_estimators': 150, 'subsample': 0.5, 'eta': 0.17500000000000002, 'objective': 'multi:softprob', 'num_class': 2, 'max_depth': 12, 'gamma': 0}\n",
      "\tScore 0.206174184296\n",
      "\n",
      "\n",
      "Training with params:\n",
      "{'colsample_bytree': 0.75, 'silent': 1, 'eval_metric': 'merror', 'nthread': 4, 'min_child_weight': 4.0, 'n_estimators': 150, 'subsample': 0.5, 'eta': 0.07500000000000001, 'objective': 'multi:softprob', 'num_class': 2, 'max_depth': 4, 'gamma': 0}\n",
      "\tScore 0.181302974573\n",
      "\n",
      "\n",
      "Training with params:\n",
      "{'colsample_bytree': 0.5, 'silent': 1, 'eval_metric': 'merror', 'nthread': 4, 'min_child_weight': 4.0, 'n_estimators': 150, 'subsample': 0.5, 'eta': 0.05, 'objective': 'multi:softprob', 'num_class': 2, 'max_depth': 16, 'gamma': 0}\n",
      "\tScore 0.185415761231\n",
      "\n",
      "\n",
      "Training with params:\n",
      "{'colsample_bytree': 0.75, 'silent': 1, 'eval_metric': 'merror', 'nthread': 4, 'min_child_weight': 6.0, 'n_estimators': 150, 'subsample': 0.5, 'eta': 0.05, 'objective': 'multi:softprob', 'num_class': 2, 'max_depth': 9, 'gamma': 0}\n",
      "\tScore 0.182089442391\n",
      "\n",
      "\n",
      "Training with params:\n",
      "{'colsample_bytree': 0.75, 'silent': 1, 'eval_metric': 'merror', 'nthread': 4, 'min_child_weight': 4.0, 'n_estimators': 150, 'subsample': 0.5, 'eta': 0.15000000000000002, 'objective': 'multi:softprob', 'num_class': 2, 'max_depth': 15, 'gamma': 0}\n",
      "\tScore 0.208014883375\n",
      "\n",
      "\n",
      "Training with params:\n",
      "{'colsample_bytree': 0.75, 'silent': 1, 'eval_metric': 'merror', 'nthread': 4, 'min_child_weight': 5.0, 'n_estimators': 150, 'subsample': 0.5, 'eta': 0.025, 'objective': 'multi:softprob', 'num_class': 2, 'max_depth': 3, 'gamma': 0}\n",
      "\tScore 0.187550114417\n",
      "\n",
      "\n",
      "Training with params:\n",
      "{'colsample_bytree': 0.5, 'silent': 1, 'eval_metric': 'merror', 'nthread': 4, 'min_child_weight': 5.0, 'n_estimators': 150, 'subsample': 0.5, 'eta': 0.07500000000000001, 'objective': 'multi:softprob', 'num_class': 2, 'max_depth': 4, 'gamma': 0}\n",
      "\tScore 0.18102997212\n",
      "\n",
      "\n",
      "Training with params:\n",
      "{'colsample_bytree': 0.5, 'silent': 1, 'eval_metric': 'merror', 'nthread': 4, 'min_child_weight': 6.0, 'n_estimators': 150, 'subsample': 0.5, 'eta': 0.225, 'objective': 'multi:softprob', 'num_class': 2, 'max_depth': 4, 'gamma': 0}\n",
      "\tScore 0.182980455936\n",
      "\n",
      "\n",
      "Training with params:\n",
      "{'colsample_bytree': 0.5, 'silent': 1, 'eval_metric': 'merror', 'nthread': 4, 'min_child_weight': 5.0, 'n_estimators': 150, 'subsample': 0.5, 'eta': 0.125, 'objective': 'multi:softprob', 'num_class': 2, 'max_depth': 5, 'gamma': 0}\n",
      "\tScore 0.182411013265\n",
      "\n",
      "\n",
      "Training with params:\n",
      "{'colsample_bytree': 0.5, 'silent': 1, 'eval_metric': 'merror', 'nthread': 4, 'min_child_weight': 6.0, 'n_estimators': 150, 'subsample': 0.5, 'eta': 0.07500000000000001, 'objective': 'multi:softprob', 'num_class': 2, 'max_depth': 4, 'gamma': 0}\n",
      "\tScore 0.181271182944\n",
      "\n",
      "\n",
      "Training with params:\n",
      "{'colsample_bytree': 0.5, 'silent': 1, 'eval_metric': 'merror', 'nthread': 4, 'min_child_weight': 5.0, 'n_estimators': 150, 'subsample': 0.5, 'eta': 0.35000000000000003, 'objective': 'multi:softprob', 'num_class': 2, 'max_depth': 1, 'gamma': 0}\n",
      "\tScore 0.183851143705\n",
      "\n",
      "\n",
      "Training with params:\n",
      "{'colsample_bytree': 0.5, 'silent': 1, 'eval_metric': 'merror', 'nthread': 4, 'min_child_weight': 5.0, 'n_estimators': 150, 'subsample': 0.75, 'eta': 0.17500000000000002, 'objective': 'multi:softprob', 'num_class': 2, 'max_depth': 14, 'gamma': 0}\n",
      "\tScore 0.201737287444\n",
      "\n",
      "\n",
      "Training with params:\n",
      "{'colsample_bytree': 0.5, 'silent': 1, 'eval_metric': 'merror', 'nthread': 4, 'min_child_weight': 6.0, 'n_estimators': 150, 'subsample': 0.5, 'eta': 0.5, 'objective': 'multi:softprob', 'num_class': 2, 'max_depth': 15, 'gamma': 0}\n",
      "\tScore 0.259867770654\n",
      "\n",
      "\n",
      "Training with params:\n",
      "{'colsample_bytree': 0.5, 'silent': 1, 'eval_metric': 'merror', 'nthread': 4, 'min_child_weight': 3.0, 'n_estimators': 150, 'subsample': 0.75, 'eta': 0.07500000000000001, 'objective': 'multi:softprob', 'num_class': 2, 'max_depth': 2, 'gamma': 0}\n",
      "\tScore 0.182523409171\n",
      "\n",
      "\n",
      "Training with params:\n",
      "{'colsample_bytree': 0.5, 'silent': 1, 'eval_metric': 'merror', 'nthread': 4, 'min_child_weight': 4.0, 'n_estimators': 150, 'subsample': 0.5, 'eta': 0.025, 'objective': 'multi:softprob', 'num_class': 2, 'max_depth': 9, 'gamma': 0}\n",
      "\tScore 0.186416776099\n",
      "\n",
      "\n",
      "Training with params:\n",
      "{'colsample_bytree': 0.5, 'silent': 1, 'eval_metric': 'merror', 'nthread': 4, 'min_child_weight': 5.0, 'n_estimators': 150, 'subsample': 0.5, 'eta': 0.125, 'objective': 'multi:softprob', 'num_class': 2, 'max_depth': 19, 'gamma': 0}\n",
      "\tScore 0.201622443604\n",
      "\n",
      "\n",
      "Training with params:\n",
      "{'colsample_bytree': 0.5, 'silent': 1, 'eval_metric': 'merror', 'nthread': 4, 'min_child_weight': 6.0, 'n_estimators': 150, 'subsample': 0.5, 'eta': 0.275, 'objective': 'multi:softprob', 'num_class': 2, 'max_depth': 12, 'gamma': 0}\n",
      "\tScore 0.21190006294\n",
      "\n",
      "\n",
      "Training with params:\n",
      "{'colsample_bytree': 0.5, 'silent': 1, 'eval_metric': 'merror', 'nthread': 4, 'min_child_weight': 3.0, 'n_estimators': 150, 'subsample': 0.75, 'eta': 0.1, 'objective': 'multi:softprob', 'num_class': 2, 'max_depth': 8, 'gamma': 0}\n",
      "\tScore 0.183852706024\n",
      "\n",
      "\n",
      "Training with params:\n",
      "{'colsample_bytree': 0.5, 'silent': 1, 'eval_metric': 'merror', 'nthread': 4, 'min_child_weight': 3.0, 'n_estimators': 150, 'subsample': 0.75, 'eta': 0.15000000000000002, 'objective': 'multi:softprob', 'num_class': 2, 'max_depth': 17, 'gamma': 0}\n",
      "\tScore 0.207417045865\n",
      "\n",
      "\n",
      "Training with params:\n",
      "{'colsample_bytree': 1.0, 'silent': 1, 'eval_metric': 'merror', 'nthread': 4, 'min_child_weight': 4.0, 'n_estimators': 150, 'subsample': 0.5, 'eta': 0.325, 'objective': 'multi:softprob', 'num_class': 2, 'max_depth': 7, 'gamma': 0}\n",
      "\tScore 0.202419572238\n",
      "\n",
      "\n",
      "Training with params:\n",
      "{'colsample_bytree': 0.5, 'silent': 1, 'eval_metric': 'merror', 'nthread': 4, 'min_child_weight': 2.0, 'n_estimators': 150, 'subsample': 0.75, 'eta': 0.225, 'objective': 'multi:softprob', 'num_class': 2, 'max_depth': 18, 'gamma': 0}\n",
      "\tScore 0.232443146846\n",
      "\n",
      "\n",
      "Training with params:\n",
      "{'colsample_bytree': 0.5, 'silent': 1, 'eval_metric': 'merror', 'nthread': 4, 'min_child_weight': 6.0, 'n_estimators': 150, 'subsample': 1.0, 'eta': 0.07500000000000001, 'objective': 'multi:softprob', 'num_class': 2, 'max_depth': 16, 'gamma': 0}\n",
      "\tScore 0.189758879064\n",
      "\n",
      "\n",
      "Training with params:\n",
      "{'colsample_bytree': 0.5, 'silent': 1, 'eval_metric': 'merror', 'nthread': 4, 'min_child_weight': 3.0, 'n_estimators': 150, 'subsample': 0.5, 'eta': 0.17500000000000002, 'objective': 'multi:softprob', 'num_class': 2, 'max_depth': 4, 'gamma': 0}\n",
      "\tScore 0.182678826751\n",
      "\n",
      "\n",
      "Training with params:\n",
      "{'colsample_bytree': 0.75, 'silent': 1, 'eval_metric': 'merror', 'nthread': 4, 'min_child_weight': 2.0, 'n_estimators': 150, 'subsample': 0.75, 'eta': 0.2, 'objective': 'multi:softprob', 'num_class': 2, 'max_depth': 10, 'gamma': 0}\n",
      "\tScore 0.198986072869\n",
      "\n",
      "\n",
      "Training with params:\n",
      "{'colsample_bytree': 1.0, 'silent': 1, 'eval_metric': 'merror', 'nthread': 4, 'min_child_weight': 5.0, 'n_estimators': 150, 'subsample': 1.0, 'eta': 0.025, 'objective': 'multi:softprob', 'num_class': 2, 'max_depth': 3, 'gamma': 0}\n",
      "\tScore 0.188061096973\n",
      "\n",
      "\n",
      "{'subsample': 0.5, 'eta': 0.07500000000000001, 'colsample_bytree': 0.5, 'max_depth': 3, 'min_child_weight': 5.0}\n"
     ]
    }
   ],
   "source": [
    "X_train, X_test, y_train, y_test = train_test_split(train_df, y, test_size=0.2, random_state=666)\n",
    "\n",
    "#Trials object where the history of search will be stored\n",
    "trials = Trials()\n",
    "optimize(trials)"
   ]
  },
  {
   "cell_type": "code",
   "execution_count": 27,
   "metadata": {
    "collapsed": false
   },
   "outputs": [
    {
     "name": "stdout",
     "output_type": "stream",
     "text": [
      "0 max_depth\n",
      "1 eta\n",
      "2 min_child_weight\n",
      "3 subsample\n"
     ]
    },
    {
     "data": {
      "image/png": "[encoded data removed]",
      "text/plain": [
       "<matplotlib.figure.Figure at 0x2181ea58>"
      ]
     },
     "metadata": {},
     "output_type": "display_data"
    }
   ],
   "source": [
    "parameters = ['max_depth', 'eta', 'min_child_weight', 'subsample'] \n",
    "f, axes = plt.subplots(nrows=2, ncols=3, figsize=(15,10))\n",
    "cmap = plt.cm.jet\n",
    "for i, val in enumerate(parameters):\n",
    "    print i, val\n",
    "    xs = np.array([t['misc']['vals'][val] for t in trials.trials]).ravel()\n",
    "    ys = [-t['result']['loss'] for t in trials.trials]\n",
    "    xs, ys = zip(*sorted(zip(xs, ys)))\n",
    "    ys = np.array(ys)\n",
    "    axes[i/3,i%3].scatter(xs, ys, s=20, linewidth=0.01, alpha=0.5, c=cmap(float(i)/len(parameters)))\n",
    "    axes[i/3,i%3].set_title(val)\n",
    "    #axes[i/3,i%3].set_ylim([0.9,1.0])"
   ]
  },
  {
   "cell_type": "code",
   "execution_count": 61,
   "metadata": {
    "collapsed": true
   },
   "outputs": [],
   "source": [
    "param = {'subsample': 0.5, 'eta': 0.07500000000000001, 'colsample_bytree': 0.5, 'max_depth': 3, 'min_child_weight': 5.0}"
   ]
  },
  {
   "cell_type": "code",
   "execution_count": 65,
   "metadata": {
    "collapsed": false
   },
   "outputs": [],
   "source": [
    "dtrain = xgb.DMatrix(train_df, y)\n",
    "xgbCvResult = xgb.cv(param, dtrain, \n",
    "                      num_boost_round=250,  \n",
    "                      nfold=5)"
   ]
  },
  {
   "cell_type": "code",
   "execution_count": 69,
   "metadata": {
    "collapsed": false
   },
   "outputs": [
    {
     "data": {
      "text/plain": [
       "Index([u'test-rmse-mean', u'test-rmse-std', u'train-rmse-mean',\n",
       "       u'train-rmse-std'],\n",
       "      dtype='object')"
      ]
     },
     "execution_count": 69,
     "metadata": {},
     "output_type": "execute_result"
    }
   ],
   "source": [
    "xgbCvResult.columns"
   ]
  },
  {
   "cell_type": "code",
   "execution_count": 73,
   "metadata": {
    "collapsed": false
   },
   "outputs": [
    {
     "data": {
      "text/plain": [
       "[<matplotlib.lines.Line2D at 0x21cd1978>]"
      ]
     },
     "execution_count": 73,
     "metadata": {},
     "output_type": "execute_result"
    },
    {
     "data": {
      "image/png": "[encoded data removed]",
      "text/plain": [
       "<matplotlib.figure.Figure at 0x21cd19e8>"
      ]
     },
     "metadata": {},
     "output_type": "display_data"
    }
   ],
   "source": [
    "plot(range(xgbCvResult.shape[0]), xgbCvResult['test-rmse-std'])\n",
    "plot(range(xgbCvResult.shape[0]), xgbCvResult['train-rmse-std'])"
   ]
  },
  {
   "cell_type": "code",
   "execution_count": 72,
   "metadata": {
    "collapsed": false
   },
   "outputs": [
    {
     "data": {
      "text/plain": [
       "[<matplotlib.lines.Line2D at 0x21c33e48>]"
      ]
     },
     "execution_count": 72,
     "metadata": {},
     "output_type": "execute_result"
    },
    {
     "data": {
      "image/png": "[encoded data removed]",
      "text/plain": [
       "<matplotlib.figure.Figure at 0x21c33e10>"
      ]
     },
     "metadata": {},
     "output_type": "display_data"
    }
   ],
   "source": [
    "plot(range(xgbCvResult.shape[0]), xgbCvResult['test-rmse-mean'])\n",
    "plot(range(xgbCvResult.shape[0]), xgbCvResult['train-rmse-mean'])"
   ]
  },
  {
   "cell_type": "code",
   "execution_count": 75,
   "metadata": {
    "collapsed": false
   },
   "outputs": [
    {
     "data": {
      "text/plain": [
       "117"
      ]
     },
     "execution_count": 75,
     "metadata": {},
     "output_type": "execute_result"
    }
   ],
   "source": [
    "best_num_round = np.argmin(xgbCvResult['test-rmse-mean'])\n",
    "best_num_round"
   ]
  },
  {
   "cell_type": "code",
   "execution_count": 76,
   "metadata": {
    "collapsed": true
   },
   "outputs": [],
   "source": [
    "bestXgb = xgb.train(param, dtrain, 750)"
   ]
  },
  {
   "cell_type": "code",
   "execution_count": 77,
   "metadata": {
    "collapsed": true
   },
   "outputs": [],
   "source": [
    "dtest = xgb.DMatrix(test_df)"
   ]
  },
  {
   "cell_type": "code",
   "execution_count": 84,
   "metadata": {
    "collapsed": false
   },
   "outputs": [
    {
     "data": {
      "text/plain": [
       "array([ 0.03451559,  0.58723229,  0.0185234 , ...,  0.07568908,\n",
       "        0.00668788,  0.07508883], dtype=float32)"
      ]
     },
     "execution_count": 84,
     "metadata": {},
     "output_type": "execute_result"
    }
   ],
   "source": [
    "xgboost_predict_proba = bestXgb.predict(dtest)\n",
    "xgboost_predict_proba "
   ]
  },
  {
   "cell_type": "code",
   "execution_count": 89,
   "metadata": {
    "collapsed": false
   },
   "outputs": [],
   "source": [
    "write_to_submission_file(xgboost_predict_proba, \n",
    "                         'forest_cover_type_xgboost.csv')"
   ]
  },
  {
   "cell_type": "markdown",
   "metadata": {},
   "source": [
    "## Комбинированная проверка"
   ]
  },
  {
   "cell_type": "code",
   "execution_count": 10,
   "metadata": {
    "collapsed": false
   },
   "outputs": [
    {
     "name": "stdout",
     "output_type": "stream",
     "text": [
      "new best: 0.9332 using forest\n",
      "new best: 0.933266666667 using knn\n",
      "new best: 0.934466666667 using forest\n",
      "new best: 0.934586666667 using forest\n",
      "new best: 0.934866666667 using forest\n",
      "new best: 0.93488 using forest\n",
      "new best: 0.93492 using forest\n",
      "new best: 0.935426666667 using forest\n",
      "iters: 50 , acc: 0.931906666667 using {'max_features': 4, 'n_estimators': 11, 'criterion': 'entropy', 'max_depth': 19, 'type': 'forest'}\n",
      "iters: 100 , acc: 0.934213333333 using {'max_features': 3, 'n_estimators': 6, 'criterion': 'entropy', 'max_depth': 8, 'type': 'forest'}\n",
      "iters: 150 , acc: 0.934906666667 using {'max_features': 2, 'n_estimators': 18, 'criterion': 'gini', 'max_depth': 8, 'type': 'forest'}\n",
      "iters: 200 , acc: 0.93028 using {'max_features': 1, 'n_estimators': 1, 'criterion': 'gini', 'max_depth': 9, 'type': 'forest'}\n",
      "iters: 250 , acc: 0.93316 using {'n_neighbors': 30, 'type': 'knn'}\n",
      "iters: 300 , acc: 0.933173333333 using {'n_neighbors': 31, 'type': 'knn'}\n",
      "iters: 350 , acc: 0.931813333333 using {'max_features': 4, 'n_estimators': 8, 'criterion': 'entropy', 'max_depth': 17, 'type': 'forest'}\n",
      "iters: 400 , acc: 0.93312 using {'max_features': 4, 'n_estimators': 6, 'criterion': 'entropy', 'max_depth': 11, 'type': 'forest'}\n",
      "iters: 450 , acc: 0.93488 using {'max_features': 4, 'n_estimators': 19, 'criterion': 'entropy', 'max_depth': 8, 'type': 'forest'}\n",
      "iters: 500 , acc: 0.933866666667 using {'max_features': 4, 'n_estimators': 16, 'criterion': 'entropy', 'max_depth': 15, 'type': 'forest'}\n",
      "iters: 550 , acc: 0.934813333333 using {'max_features': 4, 'n_estimators': 13, 'criterion': 'entropy', 'max_depth': 6, 'type': 'forest'}\n",
      "iters: 600 , acc: 0.934893333333 using {'max_features': 4, 'n_estimators': 12, 'criterion': 'entropy', 'max_depth': 7, 'type': 'forest'}\n",
      "iters: 650 , acc: 0.93316 using {'max_features': 3, 'n_estimators': 13, 'criterion': 'gini', 'max_depth': 2, 'type': 'forest'}\n",
      "iters: 700 , acc: 0.930626666667 using {'max_features': 4, 'n_estimators': 1, 'criterion': 'entropy', 'max_depth': 9, 'type': 'forest'}\n",
      "iters: 750 , acc: 0.93488 using {'max_features': 3, 'n_estimators': 16, 'criterion': 'entropy', 'max_depth': 6, 'type': 'forest'}\n",
      "iters: 800 , acc: 0.93492 using {'max_features': 4, 'n_estimators': 16, 'criterion': 'entropy', 'max_depth': 6, 'type': 'forest'}\n",
      "iters: 850 , acc: 0.933653333333 using {'max_features': 4, 'n_estimators': 10, 'criterion': 'entropy', 'max_depth': 12, 'type': 'forest'}\n",
      "iters: 900 , acc: 0.93132 using {'max_features': 4, 'n_estimators': 8, 'criterion': 'entropy', 'max_depth': 17, 'type': 'forest'}\n",
      "iters: 950 , acc: 0.9344 using {'max_features': 2, 'n_estimators': 12, 'criterion': 'entropy', 'max_depth': 6, 'type': 'forest'}\n",
      "iters: 1000 , acc: 0.935013333333 using {'max_features': 4, 'n_estimators': 16, 'criterion': 'entropy', 'max_depth': 6, 'type': 'forest'}\n",
      "iters: 1050 , acc: 0.934973333333 using {'max_features': 4, 'n_estimators': 16, 'criterion': 'entropy', 'max_depth': 8, 'type': 'forest'}\n",
      "iters: 1100 , acc: 0.934306666667 using {'max_features': 4, 'n_estimators': 13, 'criterion': 'entropy', 'max_depth': 4, 'type': 'forest'}\n",
      "iters: 1150 , acc: 0.933866666667 using {'max_features': 4, 'n_estimators': 7, 'criterion': 'entropy', 'max_depth': 9, 'type': 'forest'}\n",
      "iters: 1200 , acc: 0.92516 using {'max_features': 3, 'n_estimators': 3, 'criterion': 'entropy', 'max_depth': 19, 'type': 'forest'}\n",
      "iters: 1250 , acc: 0.934373333333 using {'max_features': 4, 'n_estimators': 16, 'criterion': 'entropy', 'max_depth': 11, 'type': 'forest'}\n",
      "iters: 1300 , acc: 0.93492 using {'max_features': 4, 'n_estimators': 16, 'criterion': 'entropy', 'max_depth': 6, 'type': 'forest'}\n",
      "iters: 1350 , acc: 0.93316 using {'max_features': 4, 'n_estimators': 16, 'criterion': 'entropy', 'max_depth': 1, 'type': 'forest'}\n",
      "iters: 1400 , acc: 0.934786666667 using {'max_features': 4, 'n_estimators': 16, 'criterion': 'entropy', 'max_depth': 6, 'type': 'forest'}\n",
      "iters: 1450 , acc: 0.935066666667 using {'max_features': 4, 'n_estimators': 16, 'criterion': 'entropy', 'max_depth': 6, 'type': 'forest'}\n",
      "iters: 1500 , acc: 0.93316 using {'n_neighbors': 42, 'type': 'knn'}\n",
      "best:\n",
      "{'n_estimators': 12, 'max_features': 3, 'criterion': 1, 'classifier_type': 0, 'max_depth': 7}\n"
     ]
    }
   ],
   "source": [
    "def hyperopt_train_test(params):\n",
    "    t = params['type']\n",
    "    del params['type']\n",
    "    if t == 'forest':\n",
    "        clf = RandomForestClassifier(**params)\n",
    "    elif t == 'knn':\n",
    "        clf = KNeighborsClassifier(**params)\n",
    "    else:\n",
    "        return 0\n",
    "    return cross_val_score(clf, train_df, y).mean()\n",
    "\n",
    "space = hp.choice('classifier_type', [\n",
    "    {\n",
    "        'type': 'forest',\n",
    "        'max_depth': hp.choice('max_depth', range(1,20)),\n",
    "        'max_features': hp.choice('max_features', range(1,9)),\n",
    "        'n_estimators': hp.choice('n_estimators', range(10,20)),\n",
    "        'criterion': hp.choice('criterion', [\"gini\", \"entropy\"]),\n",
    "    },\n",
    "    {\n",
    "        'type': 'knn',\n",
    "        'n_neighbors': hp.choice('knn_n_neighbors', range(1,50))\n",
    "    }\n",
    "])\n",
    "\n",
    "count = 0\n",
    "best = 0\n",
    "def f(params):\n",
    "    global best, count\n",
    "    count += 1\n",
    "    acc = hyperopt_train_test(params.copy())\n",
    "    if acc > best:\n",
    "        print 'new best:', acc, 'using', params['type']\n",
    "        best = acc\n",
    "    if count % 50 == 0:\n",
    "        print 'iters:', count, ', acc:', acc, 'using', params\n",
    "    return {'loss': -acc, 'status': STATUS_OK}\n",
    "\n",
    "trials = Trials()\n",
    "best = fmin(f, space, algo=tpe.suggest, max_evals=1500, trials=trials)\n",
    "print 'best:'\n",
    "print best"
   ]
  },
  {
   "cell_type": "code",
   "execution_count": null,
   "metadata": {
    "collapsed": true
   },
   "outputs": [],
   "source": [
    "parameters = ['n_estimators', 'max_depth', 'max_features', 'criterion']\n",
    "f, axes = plt.subplots(nrows=2, ncols=3, figsize=(15,10))\n",
    "cmap = plt.cm.jet\n",
    "for i, val in enumerate(parameters):\n",
    "    print i, val\n",
    "    xs = np.array([t['misc']['vals'][val] for t in trials.trials]).ravel()\n",
    "    ys = [-t['result']['loss'] for t in trials.trials]\n",
    "    xs, ys = zip(*sorted(zip(xs, ys)))\n",
    "    ys = np.array(ys)\n",
    "    axes[i/3,i%3].scatter(xs, ys, s=20, linewidth=0.01, alpha=0.5, c=cmap(float(i)/len(parameters)))\n",
    "    axes[i/3,i%3].set_title(val)\n",
    "    #axes[i/3,i%3].set_ylim([0.9,1.0])"
   ]
  },
  {
   "cell_type": "code",
   "execution_count": null,
   "metadata": {
    "collapsed": true
   },
   "outputs": [],
   "source": []
  }
 ],
 "metadata": {
  "kernelspec": {
   "display_name": "Python 2",
   "language": "python",
   "name": "python2"
  },
  "language_info": {
   "codemirror_mode": {
    "name": "ipython",
    "version": 2
   },
   "file_extension": ".py",
   "mimetype": "text/x-python",
   "name": "python",
   "nbconvert_exporter": "python",
   "pygments_lexer": "ipython2",
   "version": "2.7.10"
  },
  "widgets": {
   "state": {},
   "version": "1.1.2"
  }
 },
 "nbformat": 4,
 "nbformat_minor": 0
}
