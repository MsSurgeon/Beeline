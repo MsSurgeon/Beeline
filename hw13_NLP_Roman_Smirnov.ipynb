{
 "cells": [
  {
   "cell_type": "code",
   "execution_count": 1,
   "metadata": {
    "collapsed": false
   },
   "outputs": [],
   "source": [
    "# -*- coding: utf-8 -*- \n",
    "from pymystem3 import Mystem\n",
    "import json\n",
    "import pymorphy2\n",
    "import wikipedia\n",
    "import nltk\n",
    "import re"
   ]
  },
  {
   "cell_type": "code",
   "execution_count": 2,
   "metadata": {
    "collapsed": false
   },
   "outputs": [],
   "source": [
    "wikipedia.set_lang(\"ru\")\n",
    "wiki = wikipedia.page(u'Обработка естественного языка')\n",
    "f = open('wiki.txt', 'w')\n",
    "f.write(wiki.content.encode('utf-8'))\n",
    "f.close()"
   ]
  },
  {
   "cell_type": "code",
   "execution_count": 3,
   "metadata": {
    "collapsed": false
   },
   "outputs": [],
   "source": [
    "text = open('wiki.txt','r').read()"
   ]
  },
  {
   "cell_type": "code",
   "execution_count": 5,
   "metadata": {
    "collapsed": false
   },
   "outputs": [],
   "source": [
    "STOP_WORDS_SET = set()\n",
    "PUNCTUATION = ['(', ')', ':', ';', ',', '-', '!', '.', '?', '/', '\"', '*']\n",
    "CARRIAGE_RETURNS = ['\\n', '\\r\\n']\n",
    "WORD_REGEX = u\"^[а-ясё]+$\"\n",
    "\n",
    "stopwordsfile = open(\"stopwords_rus.txt\", \"r\")\n",
    "for word in stopwordsfile:\n",
    "    word = word.replace(\"\\n\", '')\n",
    "    word = word.replace(\"\\r\\n\", '')\n",
    "    STOP_WORDS_SET.add(word)\n",
    "\n",
    "tokens=[]\n",
    "for word in text.split(' '):\n",
    "    word = word.decode('utf-8').lower()\n",
    "    word = word.encode('utf-8')\n",
    "    for punc in PUNCTUATION + CARRIAGE_RETURNS:\n",
    "        word = word.replace(punc, '').strip(\"'\")\n",
    "    if re.match(WORD_REGEX, word.decode('utf-8')):\n",
    "        if word and (word not in STOP_WORDS_SET) and (len(word) > 1):\n",
    "            tokens.append(word)"
   ]
  },
  {
   "cell_type": "code",
   "execution_count": 8,
   "metadata": {
    "collapsed": false
   },
   "outputs": [],
   "source": [
    "morph = pymorphy2.MorphAnalyzer()"
   ]
  },
  {
   "cell_type": "code",
   "execution_count": 67,
   "metadata": {
    "collapsed": false
   },
   "outputs": [],
   "source": [
    "noun = []\n",
    "morNoun = []\n",
    "tokensNorm = []\n",
    "for token in tokens:\n",
    "    tokensNorm.append(morph.normal_forms(token.decode('utf-8')))\n",
    "for token in tokensNorm:  \n",
    "    POS = str(morph.parse(token[0])[0].tag.POS)\n",
    "    if POS == 'NOUN':\n",
    "        noun.append(token[0])\n",
    "for token in tokens:  \n",
    "    POS = str(morph.parse(token.decode('utf-8'))[0].tag.POS)\n",
    "    if POS == 'NOUN':\n",
    "        morNoun.append(token)"
   ]
  },
  {
   "cell_type": "code",
   "execution_count": 65,
   "metadata": {
    "collapsed": false
   },
   "outputs": [
    {
     "name": "stdout",
     "output_type": "stream",
     "text": [
      "язык 8\n",
      "понимание 6\n",
      "проблема 5\n",
      "система 5\n",
      "банан 4\n",
      "слово 4\n",
      "задача 4\n",
      "компьютер 4\n",
      "рыжий 3\n",
      "анализ 3\n"
     ]
    }
   ],
   "source": [
    "fd = nltk.FreqDist(noun).most_common()\n",
    "for (n,f) in fd[:10]:\n",
    "    print (n + ' ' + str(f))"
   ]
  },
  {
   "cell_type": "code",
   "execution_count": 60,
   "metadata": {
    "collapsed": false
   },
   "outputs": [],
   "source": [
    "mystem = Mystem()\n",
    "mysNoun=[]\n",
    "for token in tokens:\n",
    "    pos = mystem.analyze(token)[0][\"analysis\"][0][\"gr\"].split(',')[0].split('=')[0]\n",
    "    if pos =='S':\n",
    "        mysNoun.append(token)"
   ]
  },
  {
   "cell_type": "code",
   "execution_count": 70,
   "metadata": {
    "collapsed": false
   },
   "outputs": [
    {
     "name": "stdout",
     "output_type": "stream",
     "text": [
      "языка 5\n",
      "системы 4\n",
      "компьютера 3\n",
      "обезьянам 3\n",
      "речи 3\n",
      "понимание 3\n",
      "бананы 3\n",
      "понимания 3\n",
      "анализа 2\n",
      "проблема 2\n"
     ]
    }
   ],
   "source": [
    "fd = nltk.FreqDist(mysNoun).most_common()\n",
    "for (n,f) in fd[:10]:\n",
    "    print (n + ' ' + str(f))"
   ]
  },
  {
   "cell_type": "code",
   "execution_count": 68,
   "metadata": {
    "collapsed": false
   },
   "outputs": [
    {
     "name": "stdout",
     "output_type": "stream",
     "text": [
      "языка 5\n",
      "системы 4\n",
      "компьютера 3\n",
      "обезьянам 3\n",
      "речи 3\n",
      "понимание 3\n",
      "бананы 3\n",
      "понимания 3\n",
      "анализа 2\n",
      "проблема 2\n"
     ]
    }
   ],
   "source": [
    "fd = nltk.FreqDist(morNoun).most_common()\n",
    "for (n,f) in fd[:10]:\n",
    "    print (n + ' ' + str(f))"
   ]
  },
  {
   "cell_type": "code",
   "execution_count": 92,
   "metadata": {
    "collapsed": false
   },
   "outputs": [],
   "source": [
    "positivCounter = set()\n",
    "negativCounter = set()\n",
    "for mor in morNoun:\n",
    "    if mor in mysNoun:\n",
    "        positivCounter.add(mor)\n",
    "    else:\n",
    "        negativCounter.add(mor)"
   ]
  },
  {
   "cell_type": "code",
   "execution_count": 104,
   "metadata": {
    "collapsed": false
   },
   "outputs": [
    {
     "name": "stdout",
     "output_type": "stream",
     "text": [
      "В результате анализа двумя разными морфологическими библиотеках обнаружилось 118 совподений, и 4 расхождения.\n"
     ]
    }
   ],
   "source": [
    "print (u\"В результате анализа двумя разными морфологическими библиотеках обнаружилось \" +\\\n",
    "                   str(len(positivCounter)) +\\\n",
    "                   u\" совподений, и \" +\\\n",
    "                   str(len(negativCounter)) +\\\n",
    "                   u\" расхождения.\")"
   ]
  },
  {
   "cell_type": "code",
   "execution_count": 103,
   "metadata": {
    "collapsed": false
   },
   "outputs": [
    {
     "name": "stdout",
     "output_type": "stream",
     "text": [
      "главные\n",
      "живого\n",
      "рыжим\n",
      "рыжий\n"
     ]
    }
   ],
   "source": [
    "for n in negativCounter:\n",
    "    print(n)"
   ]
  },
  {
   "cell_type": "markdown",
   "metadata": {
    "collapsed": true
   },
   "source": [
    "Ключевые слова для каждой задачи определяються индевидуально, как один из возможных вариантов могут быть существительные, или существительные в клокации с прилогательным"
   ]
  },
  {
   "cell_type": "code",
   "execution_count": null,
   "metadata": {
    "collapsed": true
   },
   "outputs": [],
   "source": []
  }
 ],
 "metadata": {
  "kernelspec": {
   "display_name": "Python 2",
   "language": "python",
   "name": "python2"
  },
  "language_info": {
   "codemirror_mode": {
    "name": "ipython",
    "version": 2
   },
   "file_extension": ".py",
   "mimetype": "text/x-python",
   "name": "python",
   "nbconvert_exporter": "python",
   "pygments_lexer": "ipython2",
   "version": "2.7.10"
  },
  "widgets": {
   "state": {},
   "version": "1.1.2"
  }
 },
 "nbformat": 4,
 "nbformat_minor": 0
}
